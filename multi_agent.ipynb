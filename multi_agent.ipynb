{
 "cells": [
  {
   "cell_type": "code",
   "execution_count": 44,
   "id": "225fa39d",
   "metadata": {},
   "outputs": [],
   "source": [
    "## tools\n",
    "\n",
    "from langchain_community.tools import ArxivQueryRun, WikipediaQueryRun\n",
    "from langchain_community.utilities import ArxivAPIWrapper, WikipediaAPIWrapper\n",
    "from dotenv import load_dotenv\n",
    "load_dotenv()\n",
    "import os\n",
    "from langchain_community.tools.tavily_search import TavilySearchResults\n",
    "from langchain_groq import ChatGroq\n",
    "\n",
    "from typing_extensions import TypedDict\n",
    "from langchain_core.messages import AnyMessage\n",
    "from typing import Annotated\n",
    "from langgraph.graph.message import add_messages\n",
    "from IPython.display import Image, display\n",
    "from langgraph.graph import StateGraph, START, END\n",
    "from langgraph.prebuilt import ToolNode\n",
    "from langgraph.prebuilt import tools_condition"
   ]
  },
  {
   "cell_type": "code",
   "execution_count": 45,
   "id": "f9f35602",
   "metadata": {},
   "outputs": [
    {
     "name": "stdout",
     "output_type": "stream",
     "text": [
      "arxiv\n"
     ]
    }
   ],
   "source": [
    "api_wrapper_arxiv = ArxivAPIWrapper(top_k_results=4, doc_content_chars_max=1000)\n",
    "arxiv = ArxivQueryRun(api_wrapper=api_wrapper_arxiv, description=\"Arxiv query tool\")\n",
    "print(arxiv.name)"
   ]
  },
  {
   "cell_type": "code",
   "execution_count": 46,
   "id": "92f66525",
   "metadata": {},
   "outputs": [
    {
     "data": {
      "text/plain": [
       "\"Published: 2023-10-23\\nTitle: Serverless Federated Learning with flwr-serverless\\nAuthors: Sanjeev V. Namjoshi, Reese Green, Krishi Sharma, Zhangzhang Si\\nSummary: Federated learning is becoming increasingly relevant and popular as we\\nwitness a surge in data collection and storage of personally identifiable\\ninformation. Alongside these developments there have been many proposals from\\ngovernments around the world to provide more protections for individuals' data\\nand a heightened interest in data privacy measures. As deep learning continues\\nto become more relevant in new and existing domains, it is vital to develop\\nstrategies like federated learning that can effectively train data from\\ndifferent sources, such as edge devices, without compromising security and\\nprivacy. Recently, the Flower (\\\\texttt{Flwr}) Python package was introduced to\\nprovide a scalable, flexible, and easy-to-use framework for implementing\\nfederated learning. However, to date, Flower is only able to run synchronous\\nfedera\""
      ]
     },
     "execution_count": 46,
     "metadata": {},
     "output_type": "execute_result"
    }
   ],
   "source": [
    "arxiv.invoke(\"Federated Learning with Flower\")"
   ]
  },
  {
   "cell_type": "code",
   "execution_count": 47,
   "id": "9a11ac47",
   "metadata": {},
   "outputs": [
    {
     "data": {
      "text/plain": [
       "'wikipedia'"
      ]
     },
     "execution_count": 47,
     "metadata": {},
     "output_type": "execute_result"
    }
   ],
   "source": [
    "api_wrapper_wikipedia = WikipediaAPIWrapper(top_k_results=4, doc_content_chars_max=1000)\n",
    "wikipedia = WikipediaQueryRun(api_wrapper=api_wrapper_wikipedia, description=\"Wikipedia query tool\")\n",
    "wikipedia.name"
   ]
  },
  {
   "cell_type": "code",
   "execution_count": 49,
   "id": "dc8c5614",
   "metadata": {},
   "outputs": [
    {
     "data": {
      "text/plain": [
       "'Page: Federated Learning of Cohorts\\nSummary: Federated Learning of Cohorts (FLoC) is a type of web tracking. It groups people into \"cohorts\" based on their browsing history for the purpose of interest-based advertising. FLoC was being developed as a part of Google\\'s Privacy Sandbox initiative, which includes several other advertising-related technologies with bird-themed names.:\\u200a48\\u200a Despite \"federated learning\" in the name, FLoC does not utilize any federated learning.\\nGoogle began testing the technology in Chrome 89 released in March 2021 as a replacement for third-party cookies. By April 2021, every major browser aside from Google Chrome that is based on Google\\'s open-source Chromium platform had declined to implement FLoC. The technology was criticized on privacy grounds by groups including the Electronic Frontier Foundation and DuckDuckGo, and has been described as anti-competitive; it generated an antitrust response in multiple countries as well as questions about General Data Pro'"
      ]
     },
     "execution_count": 49,
     "metadata": {},
     "output_type": "execute_result"
    }
   ],
   "source": [
    "wikipedia.invoke(\"Federated Learning with Flower\")"
   ]
  },
  {
   "cell_type": "code",
   "execution_count": 50,
   "id": "18c53c62",
   "metadata": {},
   "outputs": [],
   "source": [
    "tavily = TavilySearchResults()\n"
   ]
  },
  {
   "cell_type": "code",
   "execution_count": 51,
   "id": "b5eb4702",
   "metadata": {},
   "outputs": [
    {
     "data": {
      "text/plain": [
       "[{'title': \"Today's Stock Market Recommendation, Stock Call, Stock Pick, BSE ...\",\n",
       "  'url': 'https://www.thehindubusinessline.com/markets/todays-pick/',\n",
       "  'content': \"### [Stock to buy today: CIE Automotive India (₹530.65): BUY](https://www.thehindubusinessline.com/portfolio/technical-analysis/pf-todays-pick/stock-to-buy-today-cie-automotive-india-53065-buy/article68203610.ece)\\n\\n![bl-premium-article-image](https://assetsbl.thehindubusinessline.com/theme/images/bl-online/1x1_spacer.png) [...] ![](https://www.thehindubusinessline.com/economy/macro-economy/z7s004/article65944872.ece/alternates/LANDSCAPE_320/filler784)\\n\\n## [Stock to buy today: Indian Overseas Bank (₹74.42): BUY bl-premium-article-image](https://www.thehindubusinessline.com/portfolio/technical-analysis/stock-to-buy-today-28-may-2024-indian-overseas-bank-rs-74/article68221337.ece) [...] ### [Stock to buy today: Indian Bank (₹575.45): BUY](https://www.thehindubusinessline.com/portfolio/technical-analysis/pf-todays-pick/stock-to-buy-today-indian-bank-57545-buy/article68199785.ece)\\n\\n## [Today's Poll](https://www.thehindubusinessline.com/todays-poll/should-indian-banks-have-five-day-week/article69367405.ece)\",\n",
       "  'score': 0.8338803},\n",
       " {'title': 'Stocks to Buy Today: Top Shares to Buy & Sell | India Infoline (IIFL)',\n",
       "  'url': 'https://www.indiainfoline.com/markets/hot-stocks',\n",
       "  'content': '| [Nifty Alpha Low-Volatility 30](/markets/indices/nifty-alpha-low-volatility-30) | 26,693.05 | 158.5 | 0.59 |\\n| [Nifty Smallcap 250](/markets/indices/nifty-smallcap-250) | 17,285.75 | 112.29 | 0.65 |\\n| [Nifty Midcap150 Quality 50](/markets/indices/nifty-midcap150-quality-50) | 24,756 | 110.59 | 0.44 |\\n| [Nifty Consumer Durables](/markets/indices/nifty-consumer-durables) | 37,495.35 | 488.65 | 1.32 |\\n| [Nifty100 ESG](/markets/indices/nifty100-esg) | 4,914.35 | 65.5 | 1.35 | [...] | [Nifty 100 Equal Weight](/markets/indices/nifty-100-equal-weight) | 32,620.1 | 398.64 | 1.23 |\\n| [Nifty Midcap Liquid 15](/markets/indices/nifty-midcap-liquid-15) | 15,646.05 | 312.29 | 2.03 |\\n| [Nifty Private Bank](/markets/indices/nifty-private-bank) | 27,832.5 | 490.09 | 1.79 |\\n| [Nifty100 Quality 30](/markets/indices/nifty100-quality-30) | 5,591.9 | 28.04 | 0.50 |\\n| [Nifty 50 Equal Weight](/markets/indices/nifty-50-equal-weight) | 31,231.95 | 371.95 | 1.20 | [...] | Name | Value | Chg (%) |\\n| --- | --- | --- |\\n| [Nifty 50](/markets/indices/nifty-50) | 25,003.05 | 252.14 | 1.01 |\\n| [Nifty Next 50](/markets/indices/nifty-next-50) | 67,992.85 | 845.75 | 1.25 |\\n| [Nifty 500](/markets/indices/nifty-500) | 23,165.1 | 230.59 | 1.00 |\\n| [Nifty IT](/markets/indices/nifty-it) | 37,294.85 | 186.90 | 0.50 |\\n| [Nifty Bank](/markets/indices/nifty-bank) | 56,578.4 | 817.55 | 1.46 |\\n| [Nifty Pharma](/markets/indices/nifty-pharma) | 21,684.4 | 40.20 | 0.18 |',\n",
       "  'score': 0.8145405},\n",
       " {'title': 'Stock Advice, Stocks to Buy Today, Stock Recommendations on The ...',\n",
       "  'url': 'https://m.economictimes.com/markets/stocks/recos',\n",
       "  'content': \"ICICI Securities maintains a buy call on Lemon Tree Hotels, setting a target price of Rs 174. The company's Q4FY25 revenue reached Rs 3.8 billion, a 15% year-over-year increase, driven by portfolio ARR growth and improved occupancy. The brokerage anticipates a reduction in net debt by March 2027 and retains its positive outlook based on strong EBITDA margins.\\n\\nBuy UltraTech Cement, target price Rs 13,500: JM Financial\",\n",
       "  'score': 0.78846955}]"
      ]
     },
     "execution_count": 51,
     "metadata": {},
     "output_type": "execute_result"
    }
   ],
   "source": [
    "tavily.invoke(\"Which stock should i buy today in the Indian market?\")"
   ]
  },
  {
   "cell_type": "code",
   "execution_count": 52,
   "id": "eca28f8d",
   "metadata": {},
   "outputs": [],
   "source": [
    "os.environ[\"GROQ_API_KEY\"] = os.getenv(\"GROQ_API_KEY\")\n",
    "os.environ[\"TAVILY_API_KEY\"] = os.getenv(\"TAVILY_API_KEY\")"
   ]
  },
  {
   "cell_type": "code",
   "execution_count": 53,
   "id": "11a9eb79",
   "metadata": {
    "vscode": {
     "languageId": "markdown"
    }
   },
   "outputs": [],
   "source": [
    "## combine all these tools in the \n"
   ]
  },
  {
   "cell_type": "code",
   "execution_count": 54,
   "id": "f8cdfe22",
   "metadata": {},
   "outputs": [
    {
     "name": "stdout",
     "output_type": "stream",
     "text": [
      "Tools initialized successfully.\n"
     ]
    }
   ],
   "source": [
    "tools = [arxiv, wikipedia, tavily]\n",
    "print(\"Tools initialized successfully.\")"
   ]
  },
  {
   "cell_type": "code",
   "execution_count": 55,
   "id": "cf4a8452",
   "metadata": {},
   "outputs": [],
   "source": [
    "llm = ChatGroq(\n",
    "    model=\"qwen-qwq-32b\",\n",
    "    temperature=0.1,\n",
    "    max_tokens=4000,\n",
    "    verbose=False\n",
    ")"
   ]
  },
  {
   "cell_type": "code",
   "execution_count": 56,
   "id": "9f7fd2dc",
   "metadata": {},
   "outputs": [
    {
     "name": "stdout",
     "output_type": "stream",
     "text": [
      "content='\\n<think>\\nOkay, so I need to explain what machine learning is. Let me start by recalling what I know. Machine learning is a part of artificial intelligence, right? It\\'s about machines learning from data without being explicitly programmed. Hmm, but how exactly does that work?\\n\\nI remember hearing terms like algorithms, models, and training data. Maybe I should break it down into parts. First, the basic idea: instead of writing code to perform a task, you feed data to a machine, and it learns to do the task by itself. But how does that process actually happen?\\n\\nThere are different types of machine learning, like supervised, unsupervised, and reinforcement learning. Supervised learning uses labeled data, where each example has an input and an output. The algorithm learns to map inputs to outputs. For example, predicting house prices based on features like size and location. The model is trained on past data where the correct answers are known.\\n\\nUnsupervised learning is when the data isn\\'t labeled. The algorithm tries to find patterns or groupings on its own. Clustering is an example, like grouping customers into segments based on purchasing behavior. The model finds structure without prior labels.\\n\\nReinforcement learning is about agents learning by interacting with an environment. They take actions and get rewards or penalties, aiming to maximize the reward over time. Like training a robot to walk by rewarding it when it moves forward.\\n\\nThen there\\'s deep learning, which is a subset of machine learning using neural networks with many layers. These can handle complex tasks like image or speech recognition. But maybe I should mention that deep learning is just one part of machine learning.\\n\\nThe process usually involves data collection, preprocessing (cleaning, normalizing), choosing a model, training the model with data, and then evaluating its performance. Overfitting is a problem where the model performs well on training data but not on new data, so techniques like cross-validation and regularization are used.\\n\\nApplications are everywhere: recommendation systems (like Netflix), fraud detection, medical diagnosis, self-driving cars, etc. But I should also mention that machine learning isn\\'t magic; it requires good data, and the models can have biases if the data is biased.\\n\\nWait, maybe I should start with a simple definition first, then go into the types, process, and examples. Let me structure it step by step to make it clear. Also, clarify that it\\'s a subset of AI, and emphasize that it\\'s about learning from data to make predictions or decisions.\\n\\nHmm, did I miss anything important? Maybe mention the difference between traditional programming and machine learning. In traditional programming, you write explicit instructions, but in ML, the model learns from data. Also, maybe touch on the importance of algorithms and how they adjust parameters to minimize errors.\\n\\nI should also explain terms like training data, testing data, and validation data. The model is trained on a dataset, then tested on another to see how well it generalizes. Validation data is used during training to tune parameters.\\n\\nOh, and maybe mention some common algorithms, like linear regression, decision trees, support vector machines, neural networks. But maybe that\\'s too detailed for a basic explanation. Focus on the key concepts first.\\n\\nAlso, ethical considerations? Like privacy, bias, and transparency. But maybe that\\'s beyond the scope unless the question asks for it. The user just asked \"What is Machine Learning?\" so probably stick to the basics.\\n\\nLet me put this all together in a coherent way. Start with a definition, then types, process, examples, and maybe a brief mention of how it\\'s different from traditional programming. Keep it clear and avoid jargon where possible, but explain necessary terms.\\n</think>\\n\\n**Machine Learning (ML)** is a subset of artificial intelligence (AI) that focuses on developing algorithms and statistical models that enable computers to perform tasks without explicit instructions. Instead, these systems learn patterns and make decisions by analyzing data. Here\\'s a structured breakdown:\\n\\n### Core Concept:\\n- **Learning from Data**: Unlike traditional programming (where rules are explicitly coded), ML models \"learn\" from historical data to make predictions or decisions. The model improves its performance as it processes more data.\\n\\n---\\n\\n### Key Components:\\n1. **Data**:\\n   - **Training Data**: The dataset used to teach the model. It contains examples (features) and, in supervised learning, corresponding labels (answers).\\n   - **Testing/Validation Data**: Used to evaluate the model’s performance on unseen data, ensuring it generalizes well.\\n\\n2. **Algorithms**:\\n   - **Supervised Learning**: Uses labeled data to predict outcomes (e.g., predicting house prices using features like size and location).\\n     - *Examples*: Linear Regression, Decision Trees, Neural Networks.\\n   - **Unsupervised Learning**: Finds hidden patterns or groupings in unlabeled data (e.g., customer segmentation).\\n     - *Examples*: Clustering (K-means), Dimensionality Reduction (PCA).\\n   - **Reinforcement Learning**: An agent learns by interacting with an environment, receiving rewards/penalties for actions (e.g., training a robot to walk).\\n   - **Deep Learning**: A subset using neural networks with many layers to handle complex tasks (e.g., image recognition, NLP).\\n\\n3. **Model Training**:\\n   - The algorithm adjusts its internal parameters to minimize prediction errors (e.g., using gradient descent).\\n   - **Overfitting/Underfitting**: Risks where a model either memorizes training data (overfits) or fails to capture underlying patterns (underfits). Techniques like cross-validation and regularization help mitigate these.\\n\\n---\\n\\n### Workflow:\\n1. **Data Collection & Preprocessing**: Gather data, clean it, and normalize it (e.g., handling missing values, scaling features).\\n2. **Model Selection**: Choose an algorithm based on the problem (classification, regression, clustering).\\n3. **Training**: The model learns from the training data.\\n4. **Evaluation**: Test the model on unseen data to assess accuracy, precision, recall, etc.\\n5. **Deployment**: Use the trained model to make predictions in real-world scenarios.\\n\\n---\\n\\n### Applications:\\n- **Recommendation Systems**: Netflix, Spotify suggesting content.\\n- **Image/ Speech Recognition**: Facial recognition, voice assistants (e.g., Siri).\\n- **Healthcare**: Diagnosing diseases from medical scans, drug discovery.\\n- **Finance**: Fraud detection, algorithmic trading.\\n- **Autonomous Vehicles**: Self-driving cars interpreting sensor data.\\n\\n---\\n\\n### Key Differences from Traditional Programming:\\n| **Traditional Programming** | **Machine Learning** |\\n|----------------------------|----------------------|\\n| Explicit instructions coded by humans. | Model learns patterns from data. |\\n| Output is deterministic. | Output improves with more/better data. |\\n| Requires predefined rules. | Rules are inferred from data. |\\n\\n---\\n\\n### Challenges & Considerations:\\n- **Data Quality**: Garbage in, garbage out. Biased or incomplete data can lead to flawed models.\\n- **Ethical Concerns**: Privacy issues, algorithmic bias, and transparency (e.g., \"black box\" models).\\n- **Computational Resources**: Deep learning often requires significant processing power.\\n\\n---\\n\\n### Summary:\\nMachine Learning empowers systems to improve automatically through experience. It’s a powerful tool for solving complex problems but relies heavily on quality data, algorithm selection, and careful validation to ensure reliability and fairness.' additional_kwargs={} response_metadata={'token_usage': {'completion_tokens': 1492, 'prompt_tokens': 16, 'total_tokens': 1508, 'completion_time': 3.470984333, 'prompt_time': 0.002925016, 'queue_time': 0.119783524, 'total_time': 3.473909349}, 'model_name': 'qwen-qwq-32b', 'system_fingerprint': 'fp_a91d9c2cfb', 'finish_reason': 'stop', 'logprobs': None} id='run--176a74d7-d851-4e3a-9fe6-e04c0d932cb7-0' usage_metadata={'input_tokens': 16, 'output_tokens': 1492, 'total_tokens': 1508}\n"
     ]
    }
   ],
   "source": [
    "print(llm.invoke(\"What is Machine Learning? \"))"
   ]
  },
  {
   "cell_type": "code",
   "execution_count": 57,
   "id": "dc6ab027",
   "metadata": {},
   "outputs": [],
   "source": [
    "llm_with_tools = llm.bind_tools(tools=tools)"
   ]
  },
  {
   "cell_type": "code",
   "execution_count": 58,
   "id": "2b1d294b",
   "metadata": {},
   "outputs": [
    {
     "data": {
      "text/plain": [
       "AIMessage(content='', additional_kwargs={'tool_calls': [{'id': 'call_zpfm', 'function': {'arguments': '{\"query\":\"today\\'s recent news on AI\"}', 'name': 'tavily_search_results_json'}, 'type': 'function'}]}, response_metadata={'token_usage': {'completion_tokens': 158, 'prompt_tokens': 325, 'total_tokens': 483, 'completion_time': 0.366560651, 'prompt_time': 0.02659129, 'queue_time': 0.121139383, 'total_time': 0.393151941}, 'model_name': 'qwen-qwq-32b', 'system_fingerprint': 'fp_a91d9c2cfb', 'finish_reason': 'tool_calls', 'logprobs': None}, id='run--46f834a2-09a2-424e-9ef3-0f0e5b522652-0', tool_calls=[{'name': 'tavily_search_results_json', 'args': {'query': \"today's recent news on AI\"}, 'id': 'call_zpfm', 'type': 'tool_call'}], usage_metadata={'input_tokens': 325, 'output_tokens': 158, 'total_tokens': 483})"
      ]
     },
     "execution_count": 58,
     "metadata": {},
     "output_type": "execute_result"
    }
   ],
   "source": [
    "llm_with_tools.invoke(\"Whta is todays recent news on AI\")"
   ]
  },
  {
   "cell_type": "code",
   "execution_count": 59,
   "id": "9bf49dd9",
   "metadata": {},
   "outputs": [
    {
     "data": {
      "text/plain": [
       "AIMessage(content='', additional_kwargs={'tool_calls': [{'id': 'call_sm0e', 'function': {'arguments': '{\"query\":\"Human Activity Recognition Federated Learning\"}', 'name': 'arxiv'}, 'type': 'function'}]}, response_metadata={'token_usage': {'completion_tokens': 617, 'prompt_tokens': 331, 'total_tokens': 948, 'completion_time': 1.450700067, 'prompt_time': 0.054632688, 'queue_time': 1.3972022139999998, 'total_time': 1.505332755}, 'model_name': 'qwen-qwq-32b', 'system_fingerprint': 'fp_a91d9c2cfb', 'finish_reason': 'tool_calls', 'logprobs': None}, id='run--5bf5541b-a3ad-443c-9753-d0013778b55b-0', tool_calls=[{'name': 'arxiv', 'args': {'query': 'Human Activity Recognition Federated Learning'}, 'id': 'call_sm0e', 'type': 'tool_call'}], usage_metadata={'input_tokens': 331, 'output_tokens': 617, 'total_tokens': 948})"
      ]
     },
     "execution_count": 59,
     "metadata": {},
     "output_type": "execute_result"
    }
   ],
   "source": [
    "llm_with_tools.invoke(\"Whta is latest research related to Human activity recognition using Federated Learning?\")"
   ]
  },
  {
   "cell_type": "code",
   "execution_count": 60,
   "id": "63403cf3",
   "metadata": {},
   "outputs": [
    {
     "data": {
      "text/plain": [
       "AIMessage(content='', additional_kwargs={'tool_calls': [{'id': 'call_e4dz', 'function': {'arguments': '{\"query\":\"Virat Kohli\"}', 'name': 'wikipedia'}, 'type': 'function'}]}, response_metadata={'token_usage': {'completion_tokens': 333, 'prompt_tokens': 323, 'total_tokens': 656, 'completion_time': 0.817265631, 'prompt_time': 0.025258863, 'queue_time': 0.160884869, 'total_time': 0.842524494}, 'model_name': 'qwen-qwq-32b', 'system_fingerprint': 'fp_512a3da6bb', 'finish_reason': 'tool_calls', 'logprobs': None}, id='run--08042723-25a5-4f8f-a445-ae4d66a2d9dd-0', tool_calls=[{'name': 'wikipedia', 'args': {'query': 'Virat Kohli'}, 'id': 'call_e4dz', 'type': 'tool_call'}], usage_metadata={'input_tokens': 323, 'output_tokens': 333, 'total_tokens': 656})"
      ]
     },
     "execution_count": 60,
     "metadata": {},
     "output_type": "execute_result"
    }
   ],
   "source": [
    "llm_with_tools.invoke(\"Who is Virat Kohli?\")"
   ]
  },
  {
   "cell_type": "markdown",
   "id": "3ba334b8",
   "metadata": {},
   "source": [
    "# Workflow"
   ]
  },
  {
   "cell_type": "code",
   "execution_count": 61,
   "id": "c1a37022",
   "metadata": {},
   "outputs": [],
   "source": [
    "## workflow\n",
    "\n",
    "class State(TypedDict):\n",
    "    messages: Annotated[list[AnyMessage], add_messages]   # will append all the messages and connvert to type dict\n",
    "\n"
   ]
  },
  {
   "cell_type": "code",
   "execution_count": 62,
   "id": "d17f1b83",
   "metadata": {},
   "outputs": [
    {
     "data": {
      "image/png": "[encoded data removed]",
      "text/plain": [
       "<IPython.core.display.Image object>"
      ]
     },
     "metadata": {},
     "output_type": "display_data"
    }
   ],
   "source": [
    "def tool_calling_llm(state: State):\n",
    "    return {\"messages\": [llm_with_tools.invoke(state[\"messages\"])]}\n",
    "\n",
    "builder = StateGraph(State)\n",
    "builder.add_node(\"tool_calling_llm\", tool_calling_llm)\n",
    "builder.add_node(\"tools\", ToolNode(tools))\n",
    "\n",
    "\n",
    "## edges\n",
    "builder.add_edge(START, \"tool_calling_llm\")\n",
    "builder.add_conditional_edges(\"tool_calling_llm\", tools_condition)\n",
    "builder.add_edge(\"tools\", END)\n",
    "\n",
    "graph_compile = builder.compile()\n",
    "display(Image(graph_compile.get_graph().draw_mermaid_png()))"
   ]
  },
  {
   "cell_type": "code",
   "execution_count": null,
   "id": "cddf16a5",
   "metadata": {},
   "outputs": [],
   "source": []
  },
  {
   "cell_type": "code",
   "execution_count": 63,
   "id": "3b4aab26",
   "metadata": {},
   "outputs": [
    {
     "name": "stdout",
     "output_type": "stream",
     "text": [
      "================================\u001b[1m Human Message \u001b[0m=================================\n",
      "\n",
      "What is the latest research related to Human activity recognition using Federated Learning?\n",
      "None\n",
      "==================================\u001b[1m Ai Message \u001b[0m==================================\n",
      "Tool Calls:\n",
      "  arxiv (call_wyyw)\n",
      " Call ID: call_wyyw\n",
      "  Args:\n",
      "    query: Human Activity Recognition Federated Learning\n",
      "None\n",
      "=================================\u001b[1m Tool Message \u001b[0m=================================\n",
      "Name: arxiv\n",
      "\n",
      "Published: 2021-03-31\n",
      "Title: Semi-supervised Federated Learning for Activity Recognition\n",
      "Authors: Yuchen Zhao, Hanyang Liu, Honglin Li, Payam Barnaghi, Hamed Haddadi\n",
      "Summary: Training deep learning models on in-home IoT sensory data is commonly used to\n",
      "recognise human activities. Recently, federated learning systems that use edge\n",
      "devices as clients to support local human activity recognition have emerged as\n",
      "a new paradigm to combine local (individual-level) and global (group-level)\n",
      "models. This approach provides better scalability and generalisability and also\n",
      "offers better privacy compared with the traditional centralised analysis and\n",
      "learning models. The assumption behind federated learning, however, relies on\n",
      "supervised learning on clients. This requires a large volume of labelled data,\n",
      "which is difficult to collect in uncontrolled IoT environments such as remote\n",
      "in-home monitoring.\n",
      "  In this paper, we propose an activity recognition system that uses\n",
      "semi-supervised federated learni\n",
      "None\n"
     ]
    }
   ],
   "source": [
    "messages=graph_compile.invoke({\"messages\": \"What is the latest research related to Human activity recognition using Federated Learning?\"})\n",
    "for m in messages[\"messages\"]:\n",
    "    print(m.pretty_print())"
   ]
  },
  {
   "cell_type": "code",
   "execution_count": null,
   "id": "0291dbfc",
   "metadata": {},
   "outputs": [
    {
     "name": "stdout",
     "output_type": "stream",
     "text": [
      "================================\u001b[1m Human Message \u001b[0m=================================\n",
      "\n",
      "1706.03762\n",
      "None\n",
      "==================================\u001b[1m Ai Message \u001b[0m==================================\n",
      "Tool Calls:\n",
      "  arxiv (call_39h6)\n",
      " Call ID: call_39h6\n",
      "  Args:\n",
      "    query: 1706.03762\n",
      "None\n",
      "=================================\u001b[1m Tool Message \u001b[0m=================================\n",
      "Name: arxiv\n",
      "\n",
      "Published: 2023-08-02\n",
      "Title: Attention Is All You Need\n",
      "Authors: Ashish Vaswani, Noam Shazeer, Niki Parmar, Jakob Uszkoreit, Llion Jones, Aidan N. Gomez, Lukasz Kaiser, Illia Polosukhin\n",
      "Summary: The dominant sequence transduction models are based on complex recurrent or\n",
      "convolutional neural networks in an encoder-decoder configuration. The best\n",
      "performing models also connect the encoder and decoder through an attention\n",
      "mechanism. We propose a new simple network architecture, the Transformer, based\n",
      "solely on attention mechanisms, dispensing with recurrence and convolutions\n",
      "entirely. Experiments on two machine translation tasks show these models to be\n",
      "superior in quality while being more parallelizable and requiring significantly\n",
      "less time to train. Our model achieves 28.4 BLEU on the WMT 2014\n",
      "English-to-German translation task, improving over the existing best results,\n",
      "including ensembles by over 2 BLEU. On the WMT 2014 English-to-French\n",
      "translation task, our model establishes a new sing\n",
      "None\n"
     ]
    }
   ],
   "source": [
    "messages1 =graph_compile.invoke({\"messages\":\"1706.03762\"})\n",
    "for m in messages1[\"messages\"]:\n",
    "    print(m.pretty_print())"
   ]
  },
  {
   "cell_type": "code",
   "execution_count": null,
   "id": "bb4b1912",
   "metadata": {},
   "outputs": [
    {
     "name": "stdout",
     "output_type": "stream",
     "text": [
      "================================\u001b[1m Human Message \u001b[0m=================================\n",
      "\n",
      "Who is Elon Musk\n",
      "None\n",
      "==================================\u001b[1m Ai Message \u001b[0m==================================\n",
      "Tool Calls:\n",
      "  wikipedia (call_tyxy)\n",
      " Call ID: call_tyxy\n",
      "  Args:\n",
      "    query: Elon Musk\n",
      "None\n",
      "=================================\u001b[1m Tool Message \u001b[0m=================================\n",
      "Name: wikipedia\n",
      "\n",
      "Page: Elon Musk\n",
      "Summary: Elon Reeve Musk ( EE-lon; born June 28, 1971) is a businessman known for his leadership of Tesla, SpaceX, X (formerly Twitter) and the Department of Government Efficiency (DOGE). Musk has been considered the wealthiest person in the world since 2021; as of May 2025, Forbes estimates his net worth to be US$424.7 billion. \n",
      "Born to a wealthy family in Pretoria, South Africa, Musk emigrated in 1989 to Canada. He received bachelor's degrees from the University of Pennsylvania in 1997 before moving to California, United States, to pursue business ventures. In 1995, Musk co-founded the software company Zip2. Following its sale in 1999, he co-founded X.com, an online payment company that later merged to form PayPal, which was acquired by eBay in 2002. That year, Musk also became an American citizen.\n",
      "In 2002, Musk founded the space technology company SpaceX, becoming its CEO and chief engineer; the company has since led innovations in reusable rockets and commercial spa\n",
      "None\n"
     ]
    }
   ],
   "source": [
    "messages2 =graph_compile.invoke({\"messages\":\"Who is Elon Musk\"})\n",
    "for m in messages2[\"messages\"]:\n",
    "    print(m.pretty_print())"
   ]
  },
  {
   "cell_type": "code",
   "execution_count": null,
   "id": "755749ae",
   "metadata": {},
   "outputs": [
    {
     "name": "stdout",
     "output_type": "stream",
     "text": [
      "================================\u001b[1m Human Message \u001b[0m=================================\n",
      "\n",
      "how to code a fibonacci series in python?\n",
      "None\n",
      "==================================\u001b[1m Ai Message \u001b[0m==================================\n",
      "\n",
      "To code a Fibonacci series in Python, you can use a loop or recursion. Here's a simple iterative approach using a loop:\n",
      "\n",
      "```python\n",
      "def fibonacci_series(n):\n",
      "    # Initialize the first two numbers\n",
      "    a, b = 0, 1\n",
      "    series = []\n",
      "    for _ in range(n):\n",
      "        series.append(a)\n",
      "        a, b = b, a + b  # Update the values to next pair\n",
      "    return series\n",
      "\n",
      "# Example usage:\n",
      "n = 10  # Number of terms to generate\n",
      "print(fibonacci_series(n))  # Output: [0, 1, 1, 2, 3, 5, 8, 13, 21, 34]\n",
      "```\n",
      "\n",
      "### Explanation:\n",
      "1. **Function Definition**: `fibonacci_series(n)` generates the first `n` numbers in the Fibonacci sequence.\n",
      "2. **Initialization**: `a` starts at 0 (first term), `b` at 1 (second term).\n",
      "3. **Loop**: Appends the current term (`a`) to the list, then updates `a` and `b` to the next pair in the sequence.\n",
      "4. **Output**: Returns the list of terms.\n",
      "\n",
      "For a recursive version (less efficient for large `n` but simpler logic):\n",
      "```python\n",
      "def fibonacci_recursive(n):\n",
      "    if n <= 0:\n",
      "        return []\n",
      "    elif n == 1:\n",
      "        return [0]\n",
      "    fib = [0, 1]\n",
      "    for i in range(2, n):\n",
      "        fib.append(fib[i-1] + fib[i-2])\n",
      "    return fib\n",
      "\n",
      "print(fibonacci_recursive(10))  # Same output\n",
      "```\n",
      "\n",
      "Let me know if you'd like further clarification!\n",
      "None\n"
     ]
    }
   ],
   "source": [
    "messages3 =graph_compile.invoke({\"messages\":\"how to code a fibonacci series in python?\"})\n",
    "for m in messages3[\"messages\"]:\n",
    "    print(m.pretty_print())"
   ]
  },
  {
   "cell_type": "code",
   "execution_count": 87,
   "id": "f0be0af7",
   "metadata": {},
   "outputs": [
    {
     "data": {
      "image/png": "[encoded data removed]",
      "text/plain": [
       "<IPython.core.display.Image object>"
      ]
     },
     "metadata": {},
     "output_type": "display_data"
    }
   ],
   "source": [
    "def tool_calling_llm(state: State):\n",
    "    print(\"State in tool_calling_llm:\", state)\n",
    "    return {\"messages\": [llm_with_tools.invoke(state[\"messages\"])]}\n",
    "\n",
    "builder2 = StateGraph(State)\n",
    "builder2.add_node(\"tool_calling_llm\", tool_calling_llm)\n",
    "builder2.add_node(\"tools\", ToolNode(tools))\n",
    "\n",
    "\n",
    "## edges\n",
    "builder2.add_edge(START, \"tool_calling_llm\")\n",
    "builder2.add_conditional_edges(\"tool_calling_llm\", tools_condition)\n",
    "builder2.add_edge(\"tools\", \"tool_calling_llm\")\n",
    "\n",
    "graph_compile2 = builder2.compile()\n",
    "display(Image(graph_compile2.get_graph().draw_mermaid_png()))"
   ]
  },
  {
   "cell_type": "code",
   "execution_count": 137,
   "id": "9433e948",
   "metadata": {},
   "outputs": [],
   "source": [
    "from langchain_core.prompts import ChatPromptTemplate\n",
    "from langchain.chains import LLMChain\n",
    "prompt =ChatPromptTemplate.from_template(\"\"\"\n",
    "    Summarize the context provided in english and german translation of it. \n",
    "    The structure should be as English:(English summary) German:(German translation of english summary).\n",
    "    Understand the crucial information given in the context and then provide a final answer only as structured above.\n",
    "    <context>\n",
    "    {context}\n",
    "    </context>\n",
    "    Question: {input}\"\"\")\n",
    "\n",
    "def response_llm(question: str, message):\n",
    "    #prompt = prompt.format_messages(context=message, input=question)\n",
    "    llm_chain = LLMChain(llm=llm, prompt=prompt, verbose=False)\n",
    "    response = llm_chain.run(context=message, input=question)\n",
    "\n",
    "    # Print the response\n",
    "    #print(f\"Processed response from LLM:\\n {response}\")\n",
    "    return response\n",
    "    "
   ]
  },
  {
   "cell_type": "code",
   "execution_count": 138,
   "id": "d0d394a5",
   "metadata": {},
   "outputs": [
    {
     "data": {
      "image/png": "[encoded data removed]",
      "text/plain": [
       "<IPython.core.display.Image object>"
      ]
     },
     "metadata": {},
     "output_type": "display_data"
    }
   ],
   "source": [
    "from langchain_core.prompts import ChatPromptTemplate\n",
    "from langchain.chains import LLMChain\n",
    "\n",
    "def tool_calling_llm(state: State):\n",
    "    return {\"messages\": [llm_with_tools.invoke(state[\"messages\"])]}\n",
    "\n",
    "def processed_response(state:State):\n",
    "    #print(\"State in processed_response:\", state[\"messages\"][1]) # ai message\n",
    "    #print(\"State in processed_response:\", state[\"messages\"][0])  # message history\n",
    "    return {\"message\": response_llm(question=state[\"messages\"][0].content, message=state[\"messages\"][1].content)}\n",
    "\n",
    "builder3 = StateGraph(State)\n",
    "builder3.add_node(\"tool_calling_llm\", tool_calling_llm)\n",
    "builder3.add_node(\"tools\", ToolNode(tools))\n",
    "builder3.add_node(\"processed_response\", processed_response)\n",
    "\n",
    "\n",
    "## edges\n",
    "builder3.add_edge(START, \"tool_calling_llm\")\n",
    "builder3.add_conditional_edges(\"tool_calling_llm\", tools_condition)\n",
    "builder3.add_edge(\"tools\", \"tool_calling_llm\")\n",
    "builder3.add_edge(\"tool_calling_llm\", \"processed_response\")\n",
    "builder3.add_edge( \"processed_response\",END)\n",
    "\n",
    "graph_compile3 = builder3.compile()\n",
    "display(Image(graph_compile3.get_graph().draw_mermaid_png()))"
   ]
  },
  {
   "cell_type": "code",
   "execution_count": 139,
   "id": "311ad45c",
   "metadata": {},
   "outputs": [
    {
     "name": "stdout",
     "output_type": "stream",
     "text": [
      "================================\u001b[1m Human Message \u001b[0m=================================\n",
      "\n",
      "what is federated learning?\n",
      "None\n",
      "==================================\u001b[1m Ai Message \u001b[0m==================================\n",
      "Tool Calls:\n",
      "  wikipedia (call_ap9z)\n",
      " Call ID: call_ap9z\n",
      "  Args:\n",
      "    query: federated learning\n",
      "None\n",
      "=================================\u001b[1m Tool Message \u001b[0m=================================\n",
      "Name: wikipedia\n",
      "\n",
      "Page: Federated learning\n",
      "Summary: Federated learning (also known as collaborative learning) is a machine learning technique in a setting where multiple entities (often called clients) collaboratively train a model while keeping their data decentralized, rather than centrally stored. A defining characteristic of federated learning is data heterogeneity. Because client data is decentralized, data samples held by each client may not be independently and identically distributed.\n",
      "Federated learning is generally concerned with and motivated by issues such as data privacy, data minimization, and data access rights. Its applications involve a variety of research areas including defence, telecommunications, the Internet of things, and pharmaceuticals.\n",
      "\n",
      "\n",
      "\n",
      "Page: Federated Learning of Cohorts\n",
      "Summary: Federated Learning of Cohorts (FLoC) is a type of web tracking. It groups people into \"cohorts\" based on their browsing history for the purpose of interest-based advertising. FLoC was being developed\n",
      "None\n",
      "==================================\u001b[1m Ai Message \u001b[0m==================================\n",
      "\n",
      "Federated learning is a machine learning technique that allows multiple entities (clients) to collaboratively train a shared model using their decentralized data, without requiring the data to be centrally stored. This approach emphasizes **data privacy** and **data minimization**, as data remains on the devices or servers where it was originally collected. \n",
      "\n",
      "### Key Features:\n",
      "1. **Decentralized Data**: Each client retains its data locally. Only model updates (e.g., parameter adjustments) are shared, not raw data.\n",
      "2. **Data Heterogeneity**: Data across clients may vary significantly (e.g., different distributions or formats), which the algorithm must account for.\n",
      "3. **Privacy Focus**: By avoiding central data storage, federated learning reduces risks like data breaches and privacy violations.\n",
      "\n",
      "### How It Works:\n",
      "- A central server coordinates the process, aggregating model updates from clients.\n",
      "- Clients (e.g., smartphones, hospitals, or IoT devices) use their local data to improve the global model without sharing the data itself.\n",
      "\n",
      "### Applications:\n",
      "- **Healthcare**: Training models on patient data across hospitals without sharing sensitive records.\n",
      "- **Mobile Devices**: Improving on-device AI (e.g., keyboards or voice assistants) using user data locally.\n",
      "- **IoT Networks**: Enabling collaborative learning across distributed sensors.\n",
      "\n",
      "### Note:\n",
      "While federated learning is often associated with privacy-preserving applications, some implementations (like FLoC, a now-discontinued ad-targeting system) have raised concerns about misuse. The core concept, however, prioritizes keeping data decentralized and private.\n",
      "None\n"
     ]
    }
   ],
   "source": [
    "messages4 =graph_compile3.invoke({\"messages\":\"what is federated learning?\"})\n",
    "for m in messages4[\"messages\"]:\n",
    "    print(m.pretty_print())\n",
    "#print(messages4)  # This will print the final processed response from the LLM"
   ]
  },
  {
   "cell_type": "code",
   "execution_count": null,
   "id": "172f6182",
   "metadata": {},
   "outputs": [],
   "source": []
  },
  {
   "cell_type": "code",
   "execution_count": null,
   "id": "e222f4ab",
   "metadata": {},
   "outputs": [
    {
     "name": "stdout",
     "output_type": "stream",
     "text": [
      "================================\u001b[1m Human Message \u001b[0m=================================\n",
      "\n",
      "what is fibonacci series and Which stock should i buy today in Indian Market?\n",
      "None\n",
      "==================================\u001b[1m Ai Message \u001b[0m==================================\n",
      "Tool Calls:\n",
      "  wikipedia (call_3w87)\n",
      " Call ID: call_3w87\n",
      "  Args:\n",
      "    query: Fibonacci number\n",
      "  tavily_search_results_json (call_e0rz)\n",
      " Call ID: call_e0rz\n",
      "  Args:\n",
      "    query: top performing stocks in Indian market today\n",
      "None\n",
      "=================================\u001b[1m Tool Message \u001b[0m=================================\n",
      "Name: wikipedia\n",
      "\n",
      "Page: Fibonacci sequence\n",
      "Summary: In mathematics, the Fibonacci sequence is a sequence in which each element is the sum of the two elements that precede it. Numbers that are part of the Fibonacci sequence are known as Fibonacci numbers, commonly denoted Fn . Many writers begin the sequence with 0 and 1, although some authors start it from 1 and 1 and some (as did Fibonacci) from 1 and 2. Starting from 0 and 1, the sequence begins\n",
      "\n",
      "0, 1, 1, 2, 3, 5, 8, 13, 21, 34, 55, 89, 144, ... (sequence A000045 in the OEIS)\n",
      "\n",
      "The Fibonacci numbers were first described in Indian mathematics as early as 200 BC in work by Pingala on enumerating possible patterns of Sanskrit poetry formed from syllables of two lengths. They are named after the Italian mathematician Leonardo of Pisa, also known as Fibonacci, who introduced the sequence to Western European mathematics in his 1202 book Liber Abaci.\n",
      "Fibonacci numbers appear unexpectedly often in mathematics, so much so that there is an entire journal dedicat\n",
      "None\n",
      "=================================\u001b[1m Tool Message \u001b[0m=================================\n",
      "Name: tavily_search_results_json\n",
      "\n",
      "[{\"title\": \"Top Gaining Indian Stocks - Markets\", \"url\": \"https://www.tradingview.com/markets/stocks-india/market-movers-gainers/\", \"content\": \"| [NATHUEC](/symbols/BSE-NATHUEC/ \\\"NATHUEC − NATURA HUE CHEM LTD.\\\")NATURA HUE CHEM LTD. | +7.89% | 9.85 INR | 1.25 K | 0.92 | — | — | — | — | — | [Transportation](/markets/stocks-india/sectorandindustry-sector/transportation/ \\\"Transportation\\\") | — |\\n| [GOLECHA](/symbols/BSE-GOLECHA/ \\\"GOLECHA − GOLECHHA GLOBAL FINANCE LTD.\\\")GOLECHHA GLOBAL FINANCE LTD. | +7.87% | 25.37 INR | 6.6 K | 4.62 | — | — | — | — | — | [Finance](/markets/stocks-india/sectorandindustry-sector/finance/ \\\"Finance\\\") | — | [...] ![](https://s3-symbol-logo.tradingview.com/tamilnadu-telecommunications-l.svg)\\n![](https://s3-symbol-logo.tradingview.com/viviana-power-tech.svg)\\n![](https://s3-symbol-logo.tradingview.com/garnet-construction-ltd.svg)\\n![](https://s3-symbol-logo.tradingview.com/manaksia-coated-metals-and-indus.svg)\\n![](https://s3-symbol-logo.tradingview.com/sastasundar-ventures-limited.svg)\\n![](https://s3-symbol-logo.tradingview.com/selan-exploration-technology-l.svg) [...] ![](https://s3-symbol-logo.tradingview.com/mukta-agriculture-limited.svg)\\n![](https://s3-symbol-logo.tradingview.com/diksat-transworld-limited.svg)\\n![](https://s3-symbol-logo.tradingview.com/lloyds-enterprises-limited.svg)\\n![](https://s3-symbol-logo.tradingview.com/generic-engineering-constructi.svg)\\n![](https://s3-symbol-logo.tradingview.com/natura-hue-chem-ltd.svg)\\n![](https://s3-symbol-logo.tradingview.com/golechha-global-finance-ltd.svg)\", \"score\": 0.7476348}, {\"title\": \"Top Gainers Today NSE and BSE\", \"url\": \"https://groww.in/markets/top-gainers\", \"content\": \"| [Power Finance Corporation](/stocks/power-finance-corporation-ltd \\\"Power Finance Corporation\\\") |  | ₹418.40 0.00 (0.00%) | ₹357.25 | ₹580.00 |\\n| [IndusInd Bank](/stocks/indusind-bank-ltd \\\"IndusInd Bank\\\") |  | ₹822.85 0.00 (0.00%) | ₹606.00 | ₹1,550.00 |\\n| [Bajaj Finserv](/stocks/bajaj-finserv-ltd \\\"Bajaj Finserv\\\") |  | ₹1,990.00 0.00 (0.00%) | ₹1,472.90 | ₹2,135.00 |\\n| [Havells India](/stocks/havells-india-ltd \\\"Havells India\\\") |  | ₹1,523.20 0.00 (0.00%) | ₹1,381.30 | ₹2,106.00 | [...] | [REC Limited](/stocks/rec-ltd \\\"REC Limited\\\") |  | ₹415.00 0.00 (0.00%) | ₹357.35 | ₹654.00 |\\n| [JSW Energy](/stocks/jsw-energy-ltd \\\"JSW Energy\\\") |  | ₹522.85 0.00 (0.00%) | ₹418.75 | ₹804.90 |\\n| [Swiggy](/stocks/swiggy-ltd \\\"Swiggy\\\") |  | ₹374.45 0.00 (0.00%) | ₹297.00 | ₹617.30 |\\n| [Maruti Suzuki India](/stocks/maruti-suzuki-india-ltd \\\"Maruti Suzuki India\\\") |  | ₹12,462.00 0.00 (0.00%) | ₹10,725.00 | ₹13,680.00 |\", \"score\": 0.7327644}, {\"title\": \"Top Gainers Today NSE, BSE\", \"url\": \"https://economictimes.indiatimes.com/stocks/marketstats/top-gainers\", \"content\": \"| [Havells India](/havells-india-ltd/stocks/companyid-10507.cms \\\"Havells India Share Price\\\") | 1,523 | 35.20 |\\n| [Bajaj Finserv](/bajaj-finserv-ltd/stocks/companyid-21426.cms \\\"Bajaj Finserv Share Price\\\") | 1,990 | 46.00 |\\n| [NCC](/ncc-ltd/stocks/companyid-11234.cms \\\"NCC Share Price\\\") | 237.89 | 5.45 |\\n| [Dr. Reddys](/dr-reddys-laboratories-ltd/stocks/companyid-13841.cms \\\"Dr. Reddys Share Price\\\") | 1,321 | 30.30 | [...] | [Signatureglobal India](/signatureglobal-india-ltd/stocks/companyid-2152172.cms \\\"Signatureglobal India Share Price\\\") | 1,283 | 36.60 |\\n| [KEI Industries](/kei-industries-ltd/stocks/companyid-8311.cms \\\"KEI Industries Share Price\\\") | 3,748 | 106.00 |\\n| [JSW Energy](/jsw-energy-ltd/stocks/companyid-19818.cms \\\"JSW Energy Share Price\\\") | 522.85 | 14.80 |\\n| [HFCL](/hfcl-ltd/stocks/companyid-13649.cms \\\"HFCL Share Price\\\") | 91.42 | 2.54 | [...] | [Gravita India](/gravita-india-ltd/stocks/companyid-32785.cms \\\"Gravita India Share Price\\\") | 1,881 | 50.00 |\\n| [Max Healthcare](/max-healthcare-institute-ltd/stocks/companyid-14582.cms \\\"Max Healthcare Share Price\\\") | 1,168 | 30.80 |\\n| [Afcons Infrastru](/afcons-infrastructure-ltd/stocks/companyid-11878.cms \\\"Afcons Infrastru Share Price\\\") | 435.20 | 11.30 |\\n| [J&K Bank](/jammu-kashmir-bank-ltd/stocks/companyid-8611.cms \\\"J&K Bank Share Price\\\") | 106.87 | 2.72 |\", \"score\": 0.7009158}]\n",
      "None\n",
      "==================================\u001b[1m Ai Message \u001b[0m==================================\n",
      "\n",
      "The Fibonacci series is a sequence of numbers where each number is the sum of the two preceding ones, often starting with 0 and 1. The sequence begins: 0, 1, 1, 2, 3, 5, 8, 13, 21, and so on. It was first described in ancient Indian mathematics by scholars like Pingala and gained prominence in the West through Leonardo Fibonacci's 13th-century work.\n",
      "\n",
      "---\n",
      "\n",
      "### Regarding Stocks in the Indian Market:\n",
      "The tools provided lists of top-performing stocks, but **I cannot recommend specific stocks to buy**. Here are some current top gainers from the data, but **always conduct thorough research or consult a financial advisor** before making investment decisions:\n",
      "\n",
      "1. **Notable Gainers (TradingView)**:  \n",
      "   - NATHUEC (+7.89%), GOLECHA (+7.87%), Swiggy, JSW Energy, and others.  \n",
      "\n",
      "2. **Top Gainers (Groww)**:  \n",
      "   - Power Finance Corporation, IndusInd Bank, Bajaj Finserv, Maruti Suzuki, and REC Limited.  \n",
      "\n",
      "3. **Economic Times Highlights**:  \n",
      "   - Havells India, Bajaj Finserv, NCC, Dr. Reddy’s, and Gravita India.  \n",
      "\n",
      "---\n",
      "\n",
      "### Important Notes:\n",
      "- Stock prices fluctuate rapidly based on market conditions, company performance, and external factors.  \n",
      "- High short-term gains (e.g., +7.89%) may indicate volatility, which carries risk.  \n",
      "- Diversify your portfolio and consider long-term strategies rather than relying solely on daily performance.  \n",
      "\n",
      "For personalized advice, consult a certified financial advisor.\n",
      "None\n"
     ]
    }
   ],
   "source": [
    "messages5 =graph_compile2.invoke({\"messages\":\"what is fibonacci series and Which stock should i buy today in Indian Market?\"})\n",
    "for m in messages5[\"messages\"]:\n",
    "    print(m.pretty_print())"
   ]
  },
  {
   "cell_type": "code",
   "execution_count": 82,
   "id": "dfbf04b0",
   "metadata": {},
   "outputs": [],
   "source": [
    "from langchain_core.prompts import ChatPromptTemplate\n",
    "from langchain.chains import LLMChain\n",
    "prompt =ChatPromptTemplate.from_template(\"\"\"\n",
    "    Summarize the context provided in english and german translation of it. \n",
    "    The structure should be as English:(English summary) German:(German translation of english summary).\n",
    "    Understand the crucial information given in the context and then provide a final answer only as structured above.\n",
    "    <context>\n",
    "    {context}\n",
    "    </context>\n",
    "    Question: {input}\"\"\")\n",
    "\n",
    "def response_llm(question: str):\n",
    "    message =  graph_compile2.invoke({\"messages\": question})\n",
    "    #for m in message[\"messages\"]:\n",
    "        #print(m.pretty_print())\n",
    "\n",
    "    #prompt = prompt.format_messages(context=message, input=question)\n",
    "    llm_chain = LLMChain(llm=llm, prompt=prompt, verbose=False)\n",
    "    response = llm_chain.run(context=message, input=question)\n",
    "\n",
    "    # Print the response\n",
    "    print(f\"Processed response from LLM:\\n {response}\")\n",
    "    return response\n",
    "    \n",
    "    \n",
    "    \n",
    "    "
   ]
  },
  {
   "cell_type": "code",
   "execution_count": 83,
   "id": "a3fb7181",
   "metadata": {},
   "outputs": [
    {
     "name": "stdout",
     "output_type": "stream",
     "text": [
      "Processed response from LLM:\n",
      " \n",
      "<think>\n",
      "Okay, let me tackle this query. The user is asking which stock to buy today in the Indian market. I need to look at the provided context to find the relevant info.\n",
      "\n",
      "First, the context includes search results from The Hindu Business Line, Economic Times, INDmoney, and Groww. The AIMessage already summarized some recommendations. Let me parse that. \n",
      "\n",
      "The top picks mentioned are Amara Raja Energy & Mobility and Union Bank of India from The Hindu Business Line. UltraTech Cement is recommended by JM Financial with a target price. IRFC and Indian Overseas Bank are also highlighted. There's also mention of other stocks like Tata Motors and some pharma companies. \n",
      "\n",
      "I need to structure the summary in English first, then translate it into German. The user wants the structure as specified: English: [summary], German: [translation]. \n",
      "\n",
      "Wait, the key points are the top stocks with their names and reasons. The summary should list the main recommendations without too much detail. Also, include a note about checking current data and consulting advisors. \n",
      "\n",
      "Let me make sure I don't miss any crucial stocks from the sources. The AIMessage lists Amara Raja, UltraTech, Union Bank, IRFC, Indian Overseas Bank, and others. The German translation needs to accurately reflect these names and the key points. \n",
      "\n",
      "Double-check the stock names for correct translation. For example, \"Amara Raja Energy & Mobility\" stays the same, but terms like \"target price\" should be correctly translated. Also, ensure the disclaimer about market risks is included in both languages. \n",
      "\n",
      "Alright, compiling the English summary first, then translate. Make sure the structure is exactly as requested, no markdown. Keep it concise but covers all top recommendations and the disclaimer.\n",
      "</think>\n",
      "\n",
      "English: Top recommended stocks in the Indian market today include Amara Raja Energy & Mobility (₹1,090.85) and Union Bank of India (₹142), based on technical analysis. UltraTech Cement (target price ₹13,500) is recommended by JM Financial due to strong Q4FY25 revenue growth (12.70% YoY) and profit. IRFC (₹146.41) and Indian Overseas Bank (₹74.42) are highlighted for their trading activity and upside potential. Other mentions include Mankind Pharma, Natco Pharma, and Tata Motors. Always verify current prices, analyze financial health, and consider consulting a financial advisor before investing.  \n",
      "German: Top empfohlene Aktien auf dem indischen Markt heute umfassen Amara Raja Energy & Mobility (₹1.090,85) und Union Bank of India (₹142), basierend auf technischer Analyse. UltraTech Cement (Zielpreis ₹13.500) wird von JM Financial empfohlen, da es auf einen starken Umsatzwachstumm im Q4FY25 (12,70% YoY) und Gewinn baut. IRFC (₹146,41) und Indian Overseas Bank (₹74,42) werden aufgrund ihres Handelsaktivität und Aufwärtspotential hervorgehoben. Weitere Erwähnungen: Mankind Pharma, Natco Pharma und Tata Motors. Prüfen Sie stets aktuelle Kurse, analysieren Sie die Finanzgesundheit und berücksichtigen Sie den Rat eines Finanzberaters, bevor Sie investieren.\n"
     ]
    }
   ],
   "source": [
    "answer = response_llm(\"Which stock should i buy today in Indian Market?\")"
   ]
  },
  {
   "cell_type": "code",
   "execution_count": 84,
   "id": "5c83b2e7",
   "metadata": {},
   "outputs": [
    {
     "data": {
      "text/plain": [
       "'\\n<think>\\nOkay, let me tackle this query. The user is asking which stock to buy today in the Indian market. I need to look at the provided context to find the relevant info.\\n\\nFirst, the context includes search results from The Hindu Business Line, Economic Times, INDmoney, and Groww. The AIMessage already summarized some recommendations. Let me parse that. \\n\\nThe top picks mentioned are Amara Raja Energy & Mobility and Union Bank of India from The Hindu Business Line. UltraTech Cement is recommended by JM Financial with a target price. IRFC and Indian Overseas Bank are also highlighted. There\\'s also mention of other stocks like Tata Motors and some pharma companies. \\n\\nI need to structure the summary in English first, then translate it into German. The user wants the structure as specified: English: [summary], German: [translation]. \\n\\nWait, the key points are the top stocks with their names and reasons. The summary should list the main recommendations without too much detail. Also, include a note about checking current data and consulting advisors. \\n\\nLet me make sure I don\\'t miss any crucial stocks from the sources. The AIMessage lists Amara Raja, UltraTech, Union Bank, IRFC, Indian Overseas Bank, and others. The German translation needs to accurately reflect these names and the key points. \\n\\nDouble-check the stock names for correct translation. For example, \"Amara Raja Energy & Mobility\" stays the same, but terms like \"target price\" should be correctly translated. Also, ensure the disclaimer about market risks is included in both languages. \\n\\nAlright, compiling the English summary first, then translate. Make sure the structure is exactly as requested, no markdown. Keep it concise but covers all top recommendations and the disclaimer.\\n</think>\\n\\nEnglish: Top recommended stocks in the Indian market today include Amara Raja Energy & Mobility (₹1,090.85) and Union Bank of India (₹142), based on technical analysis. UltraTech Cement (target price ₹13,500) is recommended by JM Financial due to strong Q4FY25 revenue growth (12.70% YoY) and profit. IRFC (₹146.41) and Indian Overseas Bank (₹74.42) are highlighted for their trading activity and upside potential. Other mentions include Mankind Pharma, Natco Pharma, and Tata Motors. Always verify current prices, analyze financial health, and consider consulting a financial advisor before investing.  \\nGerman: Top empfohlene Aktien auf dem indischen Markt heute umfassen Amara Raja Energy & Mobility (₹1.090,85) und Union Bank of India (₹142), basierend auf technischer Analyse. UltraTech Cement (Zielpreis ₹13.500) wird von JM Financial empfohlen, da es auf einen starken Umsatzwachstumm im Q4FY25 (12,70% YoY) und Gewinn baut. IRFC (₹146,41) und Indian Overseas Bank (₹74,42) werden aufgrund ihres Handelsaktivität und Aufwärtspotential hervorgehoben. Weitere Erwähnungen: Mankind Pharma, Natco Pharma und Tata Motors. Prüfen Sie stets aktuelle Kurse, analysieren Sie die Finanzgesundheit und berücksichtigen Sie den Rat eines Finanzberaters, bevor Sie investieren.'"
      ]
     },
     "execution_count": 84,
     "metadata": {},
     "output_type": "execute_result"
    }
   ],
   "source": [
    "answer"
   ]
  },
  {
   "cell_type": "code",
   "execution_count": 86,
   "id": "7d178694",
   "metadata": {},
   "outputs": [
    {
     "name": "stdout",
     "output_type": "stream",
     "text": [
      "English: Top recommended stocks in the Indian market today include Amara Raja Energy & Mobility (₹1,090.85) and Union Bank of India (₹142), based on technical analysis. UltraTech Cement (target price ₹13,500) is recommended by JM Financial due to strong Q4FY25 revenue growth (12.70% YoY) and profit. IRFC (₹146.41) and Indian Overseas Bank (₹74.42) are highlighted for their trading activity and upside potential. Other mentions include Mankind Pharma, Natco Pharma, and Tata Motors. Always verify current prices, analyze financial health, and consider consulting a financial advisor before investing.  \n",
      "German: Top empfohlene Aktien auf dem indischen Markt heute umfassen Amara Raja Energy & Mobility (₹1.090,85) und Union Bank of India (₹142), basierend auf technischer Analyse. UltraTech Cement (Zielpreis ₹13.500) wird von JM Financial empfohlen, da es auf einen starken Umsatzwachstumm im Q4FY25 (12,70% YoY) und Gewinn baut. IRFC (₹146,41) und Indian Overseas Bank (₹74,42) werden aufgrund ihres Handelsaktivität und Aufwärtspotential hervorgehoben. Weitere Erwähnungen: Mankind Pharma, Natco Pharma und Tata Motors. Prüfen Sie stets aktuelle Kurse, analysieren Sie die Finanzgesundheit und berücksichtigen Sie den Rat eines Finanzberaters, bevor Sie investieren.\n"
     ]
    }
   ],
   "source": [
    "import re\n",
    "\n",
    "# Remove the content between <think> and </think>\n",
    "cleaned_text = re.sub(r'<think>.*?</think>', '', answer, flags=re.DOTALL)\n",
    "\n",
    "# Display the cleaned text\n",
    "print(cleaned_text.strip())"
   ]
  },
  {
   "cell_type": "code",
   "execution_count": null,
   "id": "56d37836",
   "metadata": {},
   "outputs": [
    {
     "ename": "SyntaxError",
     "evalue": "invalid syntax (369426365.py, line 1)",
     "output_type": "error",
     "traceback": [
      "  \u001b[36mCell\u001b[39m\u001b[36m \u001b[39m\u001b[32mIn[106]\u001b[39m\u001b[32m, line 1\u001b[39m\n\u001b[31m    \u001b[39m\u001b[31mres = dict{'messages': [HumanMessage(content='what is fibonacci series and how to code a fibonacci series in python?', additional_kwargs={}, response_metadata={}, id='964fec28-80a6-4aea-a463-48b8a3f0ab2e'), AIMessage(content='The Fibonacci series is a sequence where each number is the sum of the two preceding ones, starting with 0 and 1. The sequence begins: 0, 1, 1, 2, 3, 5, 8, 13, etc.\\n\\n### How to code it in Python (iterative approach):\\n```python\\nn = int(input(\"Enter the number of terms: \"))\\na, b = 0, 1\\nsequence = [a]\\nfor _ in range(n - 1):\\n    sequence.append(b)\\n    a, b = b, a + b\\nprint(sequence)\\n```\\n\\n### Explanation:\\n1. **Initialization**: Start with `a=0` (first term) and `b=1` (second term).\\n2. **Loop**: For each term after the first two, calculate the next term as `a + b`, update `a` and `b`, and append to the list.\\n3. **Output**: The list `sequence` contains the Fibonacci series up to the desired number of terms.\\n\\n### Recursive Approach (less efficient for large `n`):\\n```python\\ndef fibonacci(n):\\n    if n <= 0:\\n        return []\\n    elif n == 1:\\n        return [0]\\n    sequence = [0, 1]\\n    for i in range(2, n):\\n        sequence.append(sequence[i-1] + sequence[i-2])\\n    return sequence\\n\\nprint(fibonacci(int(input(\"Enter the number of terms: \"))))\\n```\\n\\n### Key Notes:\\n- The iterative method is more efficient for large `n` due to recursion\\'s exponential time complexity.\\n- Adjust the starting values (0 and 1) if you prefer a different initial sequence.', additional_kwargs={}, response_metadata={'token_usage': {'completion_tokens': 2041, 'prompt_tokens': 330, 'total_tokens': 2371, 'completion_time': 4.718402407, 'prompt_time': 0.019142413, 'queue_time': 0.125083852, 'total_time': 4.73754482}, 'model_name': 'qwen-qwq-32b', 'system_fingerprint': 'fp_9faf42d81f', 'finish_reason': 'stop', 'logprobs': None}, id='run--2de88f82-d2a7-4545-ba32-e8c2897419b7-0', usage_metadata={'input_tokens': 330, 'output_tokens': 2041, 'total_tokens': 2371})]}\u001b[39m\n              ^\n\u001b[31mSyntaxError\u001b[39m\u001b[31m:\u001b[39m invalid syntax\n"
     ]
    }
   ],
   "source": [
    "res = dict{'messages': [HumanMessage(content='what is fibonacci series and how to code a fibonacci series in python?', \n",
    "                                     additional_kwargs={}, response_metadata={}, id='964fec28-80a6-4aea-a463-48b8a3f0ab2e'), \n",
    "                        AIMessage(content='The Fibonacci series is a sequence where each number is the sum of the two preceding ones, starting with 0 and 1. The sequence begins: 0, 1, 1, 2, 3, 5, 8, 13, etc.\\n\\n### How to code it in Python (iterative approach):\\n```python\\nn = int(input(\"Enter the number of terms: \"))\\na, b = 0, 1\\nsequence = [a]\\nfor _ in range(n - 1):\\n    sequence.append(b)\\n    a, b = b, a + b\\nprint(sequence)\\n```\\n\\n### Explanation:\\n1. **Initialization**: Start with `a=0` (first term) and `b=1` (second term).\\n2. **Loop**: For each term after the first two, calculate the next term as `a + b`, update `a` and `b`, and append to the list.\\n3. **Output**: The list `sequence` contains the Fibonacci series up to the desired number of terms.\\n\\n### Recursive Approach (less efficient for large `n`):\\n```python\\ndef fibonacci(n):\\n    if n <= 0:\\n        return []\\n    elif n == 1:\\n        return [0]\\n    sequence = [0, 1]\\n    for i in range(2, n):\\n        sequence.append(sequence[i-1] + sequence[i-2])\\n    return sequence\\n\\nprint(fibonacci(int(input(\"Enter the number of terms: \"))))\\n```\\n\\n### Key Notes:\\n- The iterative method is more efficient for large `n` due to recursion\\'s exponential time complexity.\\n- Adjust the starting values (0 and 1) if you prefer a different initial sequence.', additional_kwargs={}, response_metadata={'token_usage': {'completion_tokens': 2041, 'prompt_tokens': 330, 'total_tokens': 2371, 'completion_time': 4.718402407, 'prompt_time': 0.019142413, 'queue_time': 0.125083852, 'total_time': 4.73754482}, 'model_name': 'qwen-qwq-32b', 'system_fingerprint': 'fp_9faf42d81f', 'finish_reason': 'stop', 'logprobs': None}, id='run--2de88f82-d2a7-4545-ba32-e8c2897419b7-0', usage_metadata={'input_tokens': 330, 'output_tokens': 2041, 'total_tokens': 2371})]}\n"
   ]
  }
 ],
 "metadata": {
  "kernelspec": {
   "display_name": "rag",
   "language": "python",
   "name": "python3"
  },
  "language_info": {
   "codemirror_mode": {
    "name": "ipython",
    "version": 3
   },
   "file_extension": ".py",
   "mimetype": "text/x-python",
   "name": "python",
   "nbconvert_exporter": "python",
   "pygments_lexer": "ipython3",
   "version": "3.11.11"
  }
 },
 "nbformat": 4,
 "nbformat_minor": 5
}
