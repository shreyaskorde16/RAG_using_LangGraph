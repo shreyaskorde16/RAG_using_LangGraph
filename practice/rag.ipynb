{
 "cells": [
  {
   "cell_type": "code",
   "execution_count": 1,
   "id": "694e3de3",
   "metadata": {},
   "outputs": [
    {
     "name": "stdout",
     "output_type": "stream",
     "text": [
      "hello world\n"
     ]
    }
   ],
   "source": [
    "print(\"hello world\")"
   ]
  },
  {
   "cell_type": "code",
   "execution_count": 4,
   "id": "150daacb",
   "metadata": {},
   "outputs": [
    {
     "data": {
      "text/plain": [
       "[Document(metadata={'source': 'text_data.txt'}, page_content='The Taj Mahal (/ˌtɑːdʒ məˈhɑːl, ˌtɑːʒ -/ TAHJ mə-HAHL, TAHZH -\\u2060; Hindustani: [taːdʒ ˈmɛɦ(ɛ)l]; lit.\\u2009\\'Crown of the Palace\\') is an ivory-white marble mausoleum on the right bank of the river Yamuna in Agra, Uttar Pradesh, India. It was commissioned in 1631 by the fifth Mughal emperor, Shah Jahan (r.\\u20091628–1658) to house the tomb of his beloved wife, Mumtaz Mahal; it also houses the tomb of Shah Jahan himself. The tomb is the centrepiece of a 17-hectare (42-acre) complex, which includes a mosque and a guest house, and is set in formal gardens bounded on three sides by a crenellated wall.\\n\\nConstruction of the mausoleum was completed in 1648, but work continued on other phases of the project for another five years. The first ceremony held at the mausoleum was an observance by Shah Jahan, on 6 February 1643, of the 12th anniversary of the death of Mumtaz Mahal. The Taj Mahal complex is believed to have been completed in its entirety in 1653 at a cost estimated at the time to be around ₹32 million, which in 2015 would be approximately ₹52.8 billion (US$827 million).[4]\\n\\nThe building complex incorporates the design traditions of Indo-Islamic and Mughal architecture. It employs symmetrical constructions with the usage of various shapes and symbols. While the mausoleum is constructed of white marble inlaid with semi-precious stones, red sandstone was used for other buildings in the complex similar to the Mughal era buildings of the time. The construction project employed more than 20,000 workers and artisans under the guidance of a board of architects led by Ustad Ahmad Lahori, the emperor\\'s court architect.\\n\\nThe Taj Mahal was designated as a UNESCO World Heritage Site in 1983 for being \"the jewel of Islamic art in India and one of the universally admired masterpieces of the world\\'s heritage\". It is regarded as one of the best examples of Mughal architecture and a symbol of Indian history. The Taj Mahal is a major tourist attraction and attracts more than five million visitors a year. In 2007, it was declared a winner of the New 7 Wonders of the World initiative. The Taj Mahal and its setting, surrounding grounds, and structures are a Monument of National Importance, administered by the Archaeological Survey of India.[5]\\n\\nEtymology\\nThe name \"Taj Mahal\" is of Urdu origin, and believed to be derived from Arabic and Persian, with the words tāj mahall meaning \"crown\" (tāj) \"palace\" (mahall).[6][7][8] An alternative derivation of \"taj\" is that it was a corruption of the second syllable of \"Mumtaz\".[9][10] Abdul Hamid Lahori, in his 1636 book Padshahnama, refers to the Taj Mahal as rauza-i munawwara (Perso-Arabic: روضه منواره, rawdah-i munawwarah), meaning the illumined or illustrious tomb.[11]\\n\\nInspiration\\n\\nShah Jahan, 17th century painting\\n\\nArtistic depiction of Mumtaz Mahal\\nThe Taj Mahal was commissioned by Shah Jahan in 1631, to be built in the memory of his wife Mumtaz Mahal, who died on 17 June that year while giving birth to their 14th child, Gauhara Begum.[12][13] Construction started in 1632, and the mausoleum was completed in 1648, while the surrounding buildings and garden were finished five years later.[14][15]\\n\\nThe imperial court documenting Shah Jahan\\'s grief after the death of Mumtaz Mahal illustrates the love story held as the inspiration for the Taj Mahal.[16] According to contemporary historians Muhammad Amin Qazvini, Abdul Hamid Lahori and Muhammad Saleh Kamboh, Shah Jahan did not show the same level of affection for others as he had shown Mumtaz while she was alive. After her death, he avoided royal affairs for a week due to his grief and gave up listening to music and lavish dressing for two years. Shah Jahan was enamoured by the beauty of the land at the south side of Agra on which a mansion belonging to Raja Jai Singh I stood. He chose the place for the construction of Mumtaz\\'s tomb after which Jai Singh agreed to give it to emperor Shah Jahan in exchange for a large palace in the centre of Agra.[17][18]\\n\\nArchitecture and design\\nMain article: Origins and architecture of the Taj Mahal\\n\\nThe Taj Mahal complex is situated on a platform on the banks of the Yamuna River.\\nThe Taj Mahal incorporates and expands on design traditions of Indo-Islamic and Mughal architecture.[19] Inspirations for the building came from Timurid and Mughal buildings including the Gur-e Amir in Samarkand (the tomb of Timur, progenitor of the Mughal dynasty) and Humayun\\'s Tomb in Delhi which inspired the Charbagh gardens and hasht-behesht plan of the site.[20][21] The building complex employs symmetrical constructions with the usage of various shapes and symbols.[19] While the mausoleum is constructed of white marble inlaid with semi-precious stones, red sandstone was used for other buildings in the complex similar to the Mughal era buildings of the time.[22] The entire complex sits on a platform measuring 300 metres (980 ft) in length and 8.7 metres (28.5 ft) in height on the banks of the Yamuna river. The platform is built with varying patterns of dark and light colored sandstone.[23]')]"
      ]
     },
     "execution_count": 4,
     "metadata": {},
     "output_type": "execute_result"
    }
   ],
   "source": [
    "# Data ingestion\n",
    "from langchain_community.document_loaders import TextLoader\n",
    "loader=TextLoader(\"text_data.txt\")\n",
    "text_document = loader.load()\n",
    "text_document"
   ]
  },
  {
   "cell_type": "code",
   "execution_count": null,
   "id": "f3740072",
   "metadata": {},
   "outputs": [],
   "source": [
    "import os\n",
    "from dotenv import load_dotenv\n",
    "load_dotenv()\n",
    "\n",
    "os.environ['OPENAI_API_KEY'] = os.getenv('OPENAI_API_KEY')"
   ]
  },
  {
   "cell_type": "code",
   "execution_count": 11,
   "id": "b8781add",
   "metadata": {},
   "outputs": [],
   "source": [
    "from langchain_community.document_loaders import WebBaseLoader\n",
    "import bs4\n",
    "\n",
    "## load, chunnk and index the content of the html page\n",
    "loader=WebBaseLoader(web_path=(\"https://whc.unesco.org/en/list/252/\"),\n",
    "                     bs_kwargs=dict(parse_only=bs4.SoupStrainer(\n",
    "                         class_=( \"rich-text\", \"tab_content\", \"tab_content_en\")\n",
    "                         )))\n",
    "\n",
    "web_document=loader.load()"
   ]
  },
  {
   "cell_type": "code",
   "execution_count": 12,
   "id": "16282e22",
   "metadata": {},
   "outputs": [
    {
     "data": {
      "text/plain": [
       "[Document(metadata={'source': 'https://whc.unesco.org/en/list/252/'}, page_content=\"An immense mausoleum of white marble, built in Agra between 1631 and 1648 by order of the Mughal emperor Shah Jahan in memory of his favourite wife, the Taj Mahal is the jewel of Muslim art in India and one of the universally admired masterpieces of the world's heritage.Immense mausolée funéraire de marbre blanc édifiée entre 1631 et 1648 à Agra sur l'ordre de l'empereur moghol Shah Jahan pour perpétuer le souvenir de son épouse favorite, le Taj Mahal, joyau le plus parfait de l'art musulman en Inde, est l'un des chefs-d'œuvre universellement admirés du patrimoine de l'humanité.إنّ تاج محل هو ضريح جنائزي هائل شُيّد من الرخام الأبيض بين عامي 1631 و1648 في أغرا بناءً على أوامر الإمبراطور المغولي شاه جهان بهدف تخليد ذكرى زوجته المفضّلة. ويشكّل تاج محل الذي يُعتبر أفضل جوهرة في الفن الإسلامي في الهند إحدى أبرز تُحف التراث البشري التي هي محطّ إعجاب العالم بأسره.泰姬陵是一座由白色大理石建成的巨大陵墓清真寺，是莫卧儿皇帝沙贾汗(Shah Jahan)为纪念他心爱的妃子于1631年至1648年在阿格拉修建的。泰姬陵是印度穆斯林艺术的瑰宝奇葩，是世界遗产中令世人赞叹的经典杰作之一。Великолепный мавзолей из белого мрамора был возведен в Агре между 1631 и 1648 гг. по приказу могольского императора Шах-Джахана в память о его любимой жене. Тадж-Махал – это жемчужина мусульманского искусства в Индии и один из всеми признанных шедевров всемирного наследия.Edificado entre 1631 y 1648 por orden del emperador mogol Shah Jahan para perpetuar la memoria de su esposa favorita, este grandioso mausoleo de mármol blanco es el más precioso joyel del arte musulmán en la India y una de las obras maestras universalmente admiradas del patrimonio cultural de la humanidad.1632年から22年の歳月をかけて、アグラの町に建てられた霊廟。ムガール帝国第5代のシャー・ジャハーンが、亡くなった最愛の妃ムムターズ・マハルのために建立した。中心のドームの高さは58m、周辺に4本のミナレット（尖塔）がそびえている。外観はペルシア風だが、内部はインド的な造りで、世界的にも最も美しいイスラーム建築の傑作といわれている。Dit gigantische mausoleum – opgetrokken uit wit marmer – werd tussen 1631 en 1648 gebouwd in Agra in opdracht van de Mogolse Keizer Shah Jahan, ter nagedachtenis aan zijn favoriete echtgenote Mumtaz Mahal. Het is het kroonstuk van de islamitische kunst in India en wordt universeel gezien als één van de meesterstukken op de Werelderfgoedlijst. Het mausoleum is gebouwd op de rechteroever van de (rivier) Yamuna en staat in een geweldige Mogolse tuin die bijna 17 hectaren beslaat. De Taj Mahal wordt beschouwd als het grootste architectonische werk binnen de Indo-islamitische cultuur. Het reliëfwerk in het marmer en de ingelegde edel- en halfedelstenen maken het een buitengewoon monument.मुगल बादशाह शाहजहाँ के आदेश से अपनी प्रियतमा पत्नी की याद में 1631 और 1648 के बीच आगरा में सफेद संगमरमर का एक विशाल मकबरा बनाया गया, ताजमहल भारत में मुस्लिम कला की उत्कृष्ट कृति है और विश्\\u200dव विरासत में सार्वभौमिक रूप से प्रशंसित उत्कृष्ट कृतियों में से एक है।Brief synthesis\\nThe Taj Mahal is located on the right bank of the Yamuna River in a vast Mughal garden that encompasses nearly 17 hectares, in the Agra District in Uttar Pradesh. It was built by Mughal Emperor Shah Jahan in memory of his wife Mumtaz Mahal with construction starting in 1632 AD and completed in 1648 AD, with the mosque, the guest house and the main gateway on the south, the outer courtyard and its cloisters were added subsequently and completed in 1653 AD. The existence of several historical and Quaranic inscriptions in Arabic script have facilitated setting the chronology of Taj Mahal. For its construction, masons, stone-cutters, inlayers, carvers, painters, calligraphers, dome builders and other artisans were requisitioned from the whole of the empire and also from the Central Asia and Iran. Ustad-Ahmad Lahori was the main architect of the Taj Mahal.\\nThe Taj Mahal is considered to be the greatest architectural achievement in the whole range of Indo-Islamic architecture. Its recognised architectonic beauty has a rhythmic combination of solids and voids, concave and convex and light shadow; such as arches and domes further increases the aesthetic aspect. The colour combination of lush green scape reddish pathway and blue sky over it show cases the monument in ever changing tints and moods. The relief work in marble and inlay with precious and semi precious stones make it a monument apart.\\xa0\\nThe uniqueness of Taj Mahal lies in some truly remarkable innovations carried out by the horticulture planners and architects of Shah Jahan. One such genius planning is the placing of tomb at one end of the quadripartite garden rather than in the exact centre, which added rich depth and perspective to the distant view of the monument. It is also, one of the best examples of raised tomb variety. The tomb is further raised on a square platform with the four sides of the octagonal base of the minarets extended beyond the square at the corners. The top of the platform is reached through a lateral flight of steps provided in the centre of the southern side. The ground plan of the Taj Mahal is in perfect balance of composition, the octagonal tomb chamber in the centre, encompassed by the portal halls and the four corner rooms. The plan is repeated on the upper floor. The exterior of the tomb is square in plan, with chamfered corners. The large double storied domed chamber, which houses the cenotaphs of Mumtaz Mahal and Shah Jahan, is a perfect octagon in plan. The exquisite octagonal marble lattice screen encircling both cenotaphs is a piece of superb workmanship. It is highly polished and richly decorated with inlay work. The borders of the frames are inlaid with precious stones representing flowers executed with wonderful perfection. The hues and the shades of the stones used to make the leaves and the flowers appear almost real. The cenotaph of Mumtaz Mahal is in perfect centre of the tomb chamber, placed on a rectangular platform decorated with inlaid flower plant motifs. The cenotaph of Shah Jahan is greater than Mumtaz Mahal and installed more than thirty years later by the side of the latter on its west. The upper cenotaphs are only illusory and the real graves are in the lower tomb chamber (crypt), a practice adopted in the imperial Mughal tombs.\\nThe four free-standing minarets at the corners of the platform added a hitherto unknown dimension to the Mughal architecture. The four minarets provide not only a kind of spatial reference to the monument but also give a three dimensional effect to the edifice.\\nThe most impressive in the Taj Mahal complex next to the tomb, is the main gate which stands majestically in the centre of the southern wall of the forecourt. The gate is flanked on the north front by double arcade galleries. The garden in front of the galleries is subdivided into four quarters by two main walk-ways and each quarters in turn subdivided by the narrower cross-axial walkways, on the Timurid-Persian scheme of the walled in garden. The enclosure walls on the east and west have a pavilion at the centre.\\nThe Taj Mahal is a perfect symmetrical planned building, with an emphasis of bilateral symmetry along a central axis on which the main features are placed. The building material used is brick-in-lime mortar veneered with red sandstone and marble and inlay work of precious/semi precious stones. The mosque and the guest house in the Taj Mahal complex are built of red sandstone in contrast to the marble tomb in the centre. Both the buildings have a large platform over the terrace at their front. Both the mosque and the guest house are the identical structures. They have an oblong massive prayer hall consist of three vaulted bays arranged in a row with central dominant portal. The frame of the portal arches and the spandrels are veneered in white marble. The spandrels are filled with flowery arabesques of stone intarsia and the arches bordered with rope molding.\\nCriterion (i): Taj Mahal represents the finest architectural and artistic achievement through perfect harmony and excellent craftsmanship in a whole range of Indo-Islamic sepulchral architecture. It is a masterpiece of architectural style in conception, treatment and execution and has unique aesthetic qualities in balance, symmetry and harmonious blending of various elements.\\nIntegrity\\nIntegrity is maintained in the intactness of tomb, mosque, guest house, main gate and the whole Taj Mahal complex. The physical fabric is in good condition and structural stability, nature of foundation, verticality of the minarets and other constructional aspects of Taj Mahal have been studied and continue to be monitored. To control the impact of deterioration due for atmospheric pollutants, an air control monitoring station is installed to constantly monitor air quality and control decay factors as they arise. To ensure the protection of the setting, the adequate management and enforcement of regulations in the extended buffer zone is needed. In addition, future development for tourist facilities will need to ensure that the functional and visual integrity of the property is maintained, particularly in the relationship with the Agra Fort.\\nAuthenticity\\nThe tomb, mosque, guest house, main gate and the overall Taj Mahal complex have maintained the conditions of authenticity at the time of inscription. Although an important amount of repairs and conservation works have been carried out right from the British period in India these have not compromised to the original qualities of the buildings. Future conservation work will need to follow guidelines that ensure that qualities such as form and design continue to be preserved.\\nProtection and management requirements \\nThe management of Taj Mahal complex is carried out by the Archaeological Survey of India and the legal protection of the monument and the control over the regulated area around the monument is through the various legislative and regulatory frameworks that have been established, including the Ancient Monument and Archaeological Sites and Remains Act 1958 and Rules 1959 Ancient Monuments and Archaeological Sites and Remains (Amendment and Validation); which is adequate to the overall administration of the property and buffer areas. Additional supplementary laws ensure the protection of the property in terms of development in the surroundings.\\nAn area of 10,400 sq km around the Taj Mahal is defined to protect the monument from pollution. The Supreme Court of India in December, 1996, delivered a ruling banning use of coal/coke in industries located in the Taj Trapezium Zone (TTZ) and switching over to natural gas or relocating them outside the TTZ. The TTZ comprises of 40 protected monuments including three World Heritage Sites - Taj Mahal, Agra Fort and Fatehpur Sikri.\\nThe fund provided by the federal government is adequate for the buffer areas. The fund provided by the federal government is adequate for the overall conservation, preservation and maintenance of the complex to supervise activities at the site under the guidance of the Superintending Archaeologist of the Agra Circle. The implementation of an Integrated Management plan is necessary to ensure that the property maintains the existing conditions, particularly in the light of significant pressures derived from visitation that will need to be adequately managed. The Management plan should also prescribe adequate guidelines for proposed infrastructure development and establish a comprehensive Public Use plan.\")]"
      ]
     },
     "execution_count": 12,
     "metadata": {},
     "output_type": "execute_result"
    }
   ],
   "source": [
    "web_document"
   ]
  },
  {
   "cell_type": "code",
   "execution_count": 27,
   "id": "40050727",
   "metadata": {},
   "outputs": [],
   "source": [
    "from langchain_community.document_loaders import PyPDFLoader\n",
    "loader=PyPDFLoader(\"TajMahal.pdf\")\n",
    "pdf_document=loader.load()\n",
    "#pdf_text = [doc.page_content for doc in pdf_document]"
   ]
  },
  {
   "cell_type": "code",
   "execution_count": 28,
   "id": "dd72d370",
   "metadata": {},
   "outputs": [],
   "source": [
    "from langchain.schema import Document\n",
    "# Step 2: Extract only the text content from each page\n",
    "page_texts = [doc.page_content for doc in pdf_document]\n",
    "\n",
    "# Step 3: Convert page texts back into Document objects (needed by LangChain splitter)\n",
    "documents = [Document(page_content=text) for text in page_texts]"
   ]
  },
  {
   "cell_type": "code",
   "execution_count": 29,
   "id": "ce521aee",
   "metadata": {},
   "outputs": [
    {
     "data": {
      "text/plain": [
       "[Document(metadata={}, page_content='See discussions, stats, and author profiles for this publication at: https://www.researchgate.net/publication/360018181\\nTaj Mahal\\nArticle · April 2022\\nDOI: 10.1007/978-3-319-51726-1_3510-1\\nCITATIONS\\n0\\nREADS\\n3,889\\n1 author:\\nAmita Sinha\\nIndian Institute of Technology BHU\\n112 PUBLICATIONS\\xa0\\xa0\\xa0430 CITATIONS\\xa0\\xa0\\xa0\\nSEE PROFILE\\nAll content following this page was uploaded by Amita Sinha on 18 April 2022.\\nThe user has requested enhancement of the downloaded file.'),\n",
       " Document(metadata={}, page_content='T\\nTaj Mahal\\nAmita Sinha\\nIndependent Scholar, Urbana, IL, USA\\nIntroduction\\nThe Taj’s astonishing journey from memorial to\\nmonument in the last 375 years is the story of a\\nremarkable building becoming a national icon and\\nof many ways of seeing it. The Taj represented\\nimperial Mughal power at its zenith in the Indian\\nsubcontinent and was intended to be a world\\nfamous masterpiece of human creation. Built by\\nthe Mughal Emperor Shahjahan as a mausoleum\\nfor his beloved wife Mumtaz Mahal, its primary\\nfunction was commemorative, and it became his\\nﬁnal resting place as well. The two, passionately\\nin love, became inseparable companions since\\ntheir marriage in 1612 until Mumtaz’s death in\\n1631 after she gave birth to their fourteenth child.\\nMumtaz was her husband’s conﬁdante and advi-\\nsor, patron of a riverfront garden in Agra, and was\\ninstrumental in supporting indigents and seeking\\npardon for the condemned (Koch2006). She and\\nher surviving seven children were theﬁrst family;'),\n",
       " Document(metadata={}, page_content='sor, patron of a riverfront garden in Agra, and was\\ninstrumental in supporting indigents and seeking\\npardon for the condemned (Koch2006). She and\\nher surviving seven children were theﬁrst family;\\nshe was bestowed with gifts and titles, and\\nentrusted with the imperial seal even though\\nShahjahan had two other wives (Carroll 1972;\\nBano 2013). Shahjahan was devastated on her\\nuntimely death and soon after he resolved to\\nbuild the perfect mausoleum, a replica on earth\\nof Mumtaz’s house in paradise. Her body was\\nbrought from its temporary burial in a garden on\\nthe banks of the River Tapti in Burhanpur to its\\npresent site in Agra on the Yamuna Riverfront, not\\ntoo far from the royal quarters in the fort palace.\\nConstruction began in 1632 and Taj was com-\\npleted in just over a decade, although work on\\ndecoration continued until 1648. The ﬁrst two\\nanniversaries of Mumtaz’s death were grandly\\ncelebrated by the Emperor and nobles by offering\\nprayers for her soul and distributing money to the'),\n",
       " Document(metadata={}, page_content='decoration continued until 1648. The ﬁrst two\\nanniversaries of Mumtaz’s death were grandly\\ncelebrated by the Emperor and nobles by offering\\nprayers for her soul and distributing money to the\\npoor (Fig. 1). A waqf (endowment) was\\nestablished for the upkeep of the memorial struc-\\nture in perpetuity with revenues from 30 villages\\nand tax from income generated in the shops and\\ncaravanserais of Taj Ganj.\\nMonument\\nThe Taj outlasted the Mughals and lost its com-\\nmemorative use with the advent of colonial rule in\\nIndia. It acquired the status of a monument in\\nkeeping with the nineteenth-century European\\nzeitgeist and began to be perceived as an object\\nof great beauty and pinnacle of a historical archi-\\ntectural style. A monument’s repertoire of mean-\\nings extends beyond its original function as a\\ncommemorative entity. The Taj too gathered\\nmany meanings over time as a symbol of eternal\\nlove of the Emperor Shahjahan for his beloved,\\n© Springer Nature Switzerland AG 2021'),\n",
       " Document(metadata={}, page_content='commemorative entity. The Taj too gathered\\nmany meanings over time as a symbol of eternal\\nlove of the Emperor Shahjahan for his beloved,\\n© Springer Nature Switzerland AG 2021\\nC. Smith (ed.),Encyclopedia of Global Archaeology,\\nhttps://doi.org/10.1007/978-3-319-51726-1_3510-1'),\n",
       " Document(metadata={}, page_content='personiﬁcation of the Empress Mumtaz Mahal\\nherself, representation of perfect beauty, sacred\\nstructure, and symbol of India. Multifaceted\\nmeanings have been projected into the ediﬁce\\nthat has successfully withstood the ravages of\\ntime and has survived natural disasters and social\\nupheavals.\\nLouis Kahn deﬁnes monumentality as a“spir-\\nitual quality inherent in a structure which conveys\\nthe feeling of its eternity” (Twombly 2003, 21).\\nThis quest for perfect harmony, of paradise on\\nearth, was achieved superbly in the Taj through\\ndesign and workmanship. Koch (2006) interprets\\nthe mausoleum to be the earthly version of the\\nhouse of Mumtaz Mahal in paradise. It was\\ndesigned in the form an irregular octagon signify-\\ning hasht bihisht meaning “eight paradises” in\\nPersian with a domed central chamber surrounded\\nby eight halls linked by circumambulatory corri-\\ndors. The guava-shaped double dome over the\\ncentral hall is a symbol of the heavenly vault in'),\n",
       " Document(metadata={}, page_content='Persian with a domed central chamber surrounded\\nby eight halls linked by circumambulatory corri-\\ndors. The guava-shaped double dome over the\\ncentral hall is a symbol of the heavenly vault in\\nthe Islamic tradition. Thechahar baghgarden in\\nfront of the mausoleum divided into four squares\\nby water channels intersecting in a raised water\\ntank is a also symbol of paradise with its rivers of\\nmilk, honey, wine, and water and itsﬂowering\\ntrees laden with fruits. At Taj, the four quadrants\\nare further subdivided by cross-axial pathways so\\nthat 16 sub-quadrants are formed, the entire com-\\nplex surrounded by an enclosing wall. The walls\\nof mausoleum have relief carvings ofﬂowering\\nplants and ﬂower vases in marble and sandstone\\nand its two sets of sacrophagi (of Mumtaz Mahal\\nin the center and Shahjahan on its west) on two\\nﬂoors are ornamented withﬂowers in inlaid semi-\\nprecious stones inpietra duratechnique. Thus the\\nsymbolism of paradise garden is extended to\\narchitectural facades and cenotaphs.'),\n",
       " Document(metadata={}, page_content='ﬂoors are ornamented withﬂowers in inlaid semi-\\nprecious stones inpietra duratechnique. Thus the\\nsymbolism of paradise garden is extended to\\narchitectural facades and cenotaphs.\\nBegley (1996) interprets the Taj plan as an\\nallegory for paradise and believes it to be inspired\\nby the cosmological diagram in the thirteenth-\\ncentury Suﬁ treatise Futuhat al-Makkiyya. The\\nmausoleum is the symbolic throne of God and\\nthe raised marble tank is the replica of the celestial\\ntank of abundance where Prophet Muhammad\\nwill stand before God on the Day of Judgment to\\nTaj Mahal, Fig. 1The Taj Mahal\\n2 Taj Mahal'),\n",
       " Document(metadata={}, page_content='intercede on behalf of the faithful for their entry\\ninto paradise. The 36thsura of the Qur’an recited\\nto the dying is inscribed around the central arched\\nopening on all four sides of the building. The\\ninscription on the southern gateway ends with\\nthe ﬁnal words of Sura 89 from the Qur’an –\\n“Enter thou my paradise!”\\nThe Taj was a culmination of building experi-\\nmentation over half a century in seeking perfec-\\ntion in visual symmetry and balance. It is a\\nmagniﬁcent complex consisting of mausoleum\\nand its two ﬂanking buildings, mosque and its\\ncounterpart, mihman khana (guest house), two\\ngarden pavilions (naubat khana) located at the\\nends of east-west water channel, and the entry\\nforecourt (Jilaukhana) with its four gateways,\\ncaravan serais, and tomb gardens. To the south is\\nTaj Ganj, originally designed for housing caravan\\nserais and bazaars, whose layout mirrored the\\nquadripartite plan of the Taj garden. To the north\\nacross the river another riverfront garden, Mahtab'),\n",
       " Document(metadata={}, page_content='Taj Ganj, originally designed for housing caravan\\nserais and bazaars, whose layout mirrored the\\nquadripartite plan of the Taj garden. To the north\\nacross the river another riverfront garden, Mahtab\\nBagh (moonlight garden) was built, whose dimen-\\nsions echoed that of the Taj garden.\\nThe ideal of harmony is achieved through per-\\nfect bilateral symmetry and compositional bal-\\nance through triadic division in plans, elevations,\\nand architectural ornamentation of buildings\\n(Koch 2006). Bilateral symmetry is produced in\\nthe layout of the entire complex with buildings,\\npavilions, towers, and gateways reﬂecting each\\nother along the main north-south axis that culmi-\\nnates in the centrally placed marble mausoleum,\\nﬂanked by mosque andmihman khanain a tripar-\\ntite composition. The plan of the mausoleum, a\\n“baghdadi octagon,” created from a square with\\nchamfered corners, is reﬂected in four identical\\nelevations on the four facades. The soaring marble')]"
      ]
     },
     "execution_count": 29,
     "metadata": {},
     "output_type": "execute_result"
    }
   ],
   "source": [
    "from langchain.text_splitter import RecursiveCharacterTextSplitter\n",
    "text_splitter = RecursiveCharacterTextSplitter(\n",
    "    chunk_size=1000,\n",
    "    chunk_overlap=200,)\n",
    "process_pdf = text_splitter.split_documents(documents)\n",
    "process_pdf[:10]"
   ]
  },
  {
   "cell_type": "code",
   "execution_count": 32,
   "id": "b34e3a4a",
   "metadata": {},
   "outputs": [],
   "source": [
    "## Vector embeddings\n",
    "from langchain_community.embeddings import OpenAIEmbeddings\n",
    "from langchain_community.embeddings import HuggingFaceEmbeddings\n",
    "from langchain_community.embeddings import OllamaEmbeddings\n",
    "from langchain_community.vectorstores import Chroma\n",
    "from langchain_community.vectorstores import FAISS\n",
    "from langchain_ollama import OllamaEmbeddings\n",
    "\n",
    "embeddings = OllamaEmbeddings(\n",
    "    model=\"llama2\",\n",
    ")\n",
    "\n",
    "\n",
    "db=FAISS.from_documents(documents=process_pdf,\n",
    "                       embedding=embeddings)"
   ]
  },
  {
   "cell_type": "code",
   "execution_count": 33,
   "id": "8ace4881",
   "metadata": {},
   "outputs": [
    {
     "data": {
      "text/plain": [
       "<langchain_community.vectorstores.faiss.FAISS at 0x20ddb1891d0>"
      ]
     },
     "execution_count": 33,
     "metadata": {},
     "output_type": "execute_result"
    }
   ],
   "source": [
    "db"
   ]
  },
  {
   "cell_type": "code",
   "execution_count": 34,
   "id": "750bb732",
   "metadata": {},
   "outputs": [
    {
     "data": {
      "text/plain": [
       "'left their marks on the sandstoneﬂooring, both\\nsymbols and names, indicating that over\\n400 teams were employed at the site (Koch\\n2006). The Taj is built of brick and faced with\\nred sandstone, white marble, and polished lime\\nplaster. The red sandstone from Fatehpur Sikri\\n(40 km from Agra) and white marble from\\nMakrana in Rajasthan (about 400 km away)\\nwere hauled on carts drawn by bullocks or buffa-\\nloes. The building materials were hoisted over\\nmud ramps, some said to be close to 2 miles in\\ntheir length. Twenty-eight types of precious and\\nsemi-precious stones inlaid into the white marble\\nincluded agate from Yemen, turquoise from Tibet,\\nlapis lazuli from Afghanistan, amethyst from Per-\\nsia, sapphire from Ceylon, carnelian from Arabia,\\noynx from Deccan, and garnets from Bundel-\\nkhand (Baig and Mehrotra2017). Polished plaster\\n(chuna), less expensive than marble, was used in\\nupper storey ambulatory rooms and their domes,\\ngiving them a white shining surface (Koch2006).'"
      ]
     },
     "execution_count": 34,
     "metadata": {},
     "output_type": "execute_result"
    }
   ],
   "source": [
    "query=\"Are there any UNESCO World Heritage Sites in India?\"\n",
    "docs=db.similarity_search(query=query, k=5)\n",
    "docs[0].page_content"
   ]
  },
  {
   "cell_type": "code",
   "execution_count": 35,
   "id": "071954fb",
   "metadata": {},
   "outputs": [
    {
     "name": "stderr",
     "output_type": "stream",
     "text": [
      "C:\\Users\\shrey\\AppData\\Local\\Temp\\ipykernel_9944\\2814759709.py:2: LangChainDeprecationWarning: The class `Ollama` was deprecated in LangChain 0.3.1 and will be removed in 1.0.0. An updated version of the class exists in the :class:`~langchain-ollama package and should be used instead. To use it run `pip install -U :class:`~langchain-ollama` and import as `from :class:`~langchain_ollama import OllamaLLM``.\n",
      "  llm = Ollama(model=\"llama2\")\n"
     ]
    }
   ],
   "source": [
    "from langchain_community.llms import Ollama\n",
    "llm = Ollama(model=\"llama2\")"
   ]
  },
  {
   "cell_type": "code",
   "execution_count": 43,
   "id": "98755e5a",
   "metadata": {},
   "outputs": [],
   "source": [
    "from langchain_core.prompts import ChatPromptTemplate\n",
    "prompt =ChatPromptTemplate.from_template(\"\"\"\n",
    "    Answer the following question based on the context below.\n",
    "    Think stept by step and provide a final answer.\n",
    "    If you don't know the answer, just say that you don't know, don't try to make up an answer.   \n",
    "    <context>\n",
    "    {context}\n",
    "    </context>\n",
    "    Question: {input}\"\"\")"
   ]
  },
  {
   "cell_type": "code",
   "execution_count": 44,
   "id": "4794a53a",
   "metadata": {},
   "outputs": [],
   "source": [
    "## Chai Introduction\n",
    "## Create stuff document\n",
    "\n",
    "from langchain.chains.combine_documents import create_stuff_documents_chain\n",
    "document_chain = create_stuff_documents_chain(llm, prompt=prompt)"
   ]
  },
  {
   "cell_type": "markdown",
   "id": "5b0e3565",
   "metadata": {},
   "source": [
    "A retriever is an interface that returns documents given an unstructured query. It is more general than a vector store. A retriever does not need to be able to store documents, only to return (or retrieve) them. Retrievers can be created from vector stores, but are also broad enough to include Wikipedia search and Amazon Kendra."
   ]
  },
  {
   "cell_type": "markdown",
   "id": "51fc56b7",
   "metadata": {},
   "source": []
  },
  {
   "cell_type": "code",
   "execution_count": 45,
   "id": "f9d4a603",
   "metadata": {},
   "outputs": [
    {
     "data": {
      "text/plain": [
       "VectorStoreRetriever(tags=['FAISS', 'OllamaEmbeddings'], vectorstore=<langchain_community.vectorstores.faiss.FAISS object at 0x0000020DDB1891D0>, search_kwargs={})"
      ]
     },
     "execution_count": 45,
     "metadata": {},
     "output_type": "execute_result"
    }
   ],
   "source": [
    "retriever = db.as_retriever()\n",
    "retriever"
   ]
  },
  {
   "cell_type": "code",
   "execution_count": 46,
   "id": "94d0bad6",
   "metadata": {},
   "outputs": [],
   "source": [
    "from langchain.chains import create_retrieval_chain\n",
    "retrieval_chain = create_retrieval_chain(retriever, document_chain)"
   ]
  },
  {
   "cell_type": "code",
   "execution_count": 48,
   "id": "128bb825",
   "metadata": {},
   "outputs": [],
   "source": [
    "response = retrieval_chain.invoke({\"input\": \"When was the Taj Mahal built and who built it and why?\"})"
   ]
  },
  {
   "cell_type": "code",
   "execution_count": 49,
   "id": "653f9d7c",
   "metadata": {},
   "outputs": [
    {
     "data": {
      "text/plain": [
       "\"Based on the context provided, the Taj Mahal was built in the 17th century, specifically between 1632 and 1653, during the reign of Mughal Emperor Shah Jahan. The Taj Mahal was built as a mausoleum for Shah Jahan's wife, Mumtaz Mahal, who died during childbirth in 1631. The construction of the Taj Mahal was overseen by the emperor himself and was completed after several years of work by thousands of workers, including architects, engineers, and artisans.\\n\\nThe Taj Mahal was built as a symbol of Shah Jahan's love and devotion to his wife, as well as his desire to create a monument that would stand the test of time. The complex includes the mausoleum itself, as well as several other structures, including gardens, pools, and walkways. The Taj Mahal is considered one of the greatest examples of Mughal architecture and is widely regarded as one of the most beautiful buildings in the world.\""
      ]
     },
     "execution_count": 49,
     "metadata": {},
     "output_type": "execute_result"
    }
   ],
   "source": [
    "response['answer']"
   ]
  },
  {
   "cell_type": "code",
   "execution_count": 50,
   "id": "9d5ab853",
   "metadata": {},
   "outputs": [
    {
     "name": "stdout",
     "output_type": "stream",
     "text": [
      "Based on the context provided, the Taj Mahal was built in the 17th century, specifically between 1632 and 1653, during the reign of Mughal Emperor Shah Jahan. The Taj Mahal was built as a mausoleum for Shah Jahan's wife, Mumtaz Mahal, who died during childbirth in 1631. The construction of the Taj Mahal was overseen by the emperor himself and was completed after several years of work by thousands of workers, including architects, engineers, and artisans.\n",
      "\n",
      "The Taj Mahal was built as a symbol of Shah Jahan's love and devotion to his wife, as well as his desire to create a monument that would stand the test of time. The complex includes the mausoleum itself, as well as several other structures, including gardens, pools, and walkways. The Taj Mahal is considered one of the greatest examples of Mughal architecture and is widely regarded as one of the most beautiful buildings in the world.\n"
     ]
    }
   ],
   "source": [
    "print(response['answer'])"
   ]
  },
  {
   "cell_type": "code",
   "execution_count": null,
   "id": "7744a9fd",
   "metadata": {},
   "outputs": [],
   "source": []
  },
  {
   "cell_type": "code",
   "execution_count": null,
   "id": "8a86c545",
   "metadata": {},
   "outputs": [],
   "source": []
  }
 ],
 "metadata": {
  "kernelspec": {
   "display_name": "rag",
   "language": "python",
   "name": "python3"
  },
  "language_info": {
   "codemirror_mode": {
    "name": "ipython",
    "version": 3
   },
   "file_extension": ".py",
   "mimetype": "text/x-python",
   "name": "python",
   "nbconvert_exporter": "python",
   "pygments_lexer": "ipython3",
   "version": "3.11.11"
  }
 },
 "nbformat": 4,
 "nbformat_minor": 5
}
