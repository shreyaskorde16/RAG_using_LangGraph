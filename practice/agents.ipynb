{
 "cells": [
  {
   "cell_type": "code",
   "execution_count": 1,
   "id": "644c49b9",
   "metadata": {},
   "outputs": [
    {
     "name": "stdout",
     "output_type": "stream",
     "text": [
      "hello world\n"
     ]
    }
   ],
   "source": [
    "print(\"hello world\")"
   ]
  },
  {
   "cell_type": "code",
   "execution_count": 4,
   "id": "4a8d639c",
   "metadata": {},
   "outputs": [
    {
     "name": "stdout",
     "output_type": "stream",
     "text": [
      "Page: Machine learning\n",
      "Summary: Machine learning (ML) is a field of study in artificial intelligence concerned with the development and study of statistical algorithms that can learn from data and generalise to unseen data, and thus perform tasks without explicit instructions. Within a subdiscipline in machine learning, advances in the field of deep learning have allowed neural networks, a class of statistical algorithms, to surpass many previous machine learning approaches in performance.\n",
      "ML fi\n"
     ]
    }
   ],
   "source": [
    "from langchain_community.tools import WikipediaQueryRun\n",
    "from langchain_community.utilities import WikipediaAPIWrapper\n",
    "api_wrapper = WikipediaAPIWrapper(top_k_results=3, doc_content_chars_max=500)\n",
    "wiki_tool = WikipediaQueryRun(api_wrapper=api_wrapper)\n",
    "print(wiki_tool.run(\"What is Machine Learning?\"))"
   ]
  },
  {
   "cell_type": "code",
   "execution_count": 6,
   "id": "96f79fab",
   "metadata": {},
   "outputs": [],
   "source": [
    "from langchain_community.document_loaders import WebBaseLoader\n",
    "from langchain_community.vectorstores import FAISS\n",
    "from langchain_community.embeddings import OllamaEmbeddings\n",
    "from langchain_text_splitters import RecursiveCharacterTextSplitter\n",
    "import bs4\n",
    "\n",
    "\n",
    "embeddings = OllamaEmbeddings(\n",
    "    model=\"llama2\",\n",
    ")\n",
    "\n",
    "\n",
    "loader=WebBaseLoader(web_path=(\"https://whc.unesco.org/en/list/252/\"),\n",
    "                     bs_kwargs=dict(parse_only=bs4.SoupStrainer(\n",
    "                         class_=( \"rich-text\", \"tab_content\", \"tab_content_en\")\n",
    "                         )))\n",
    "\n",
    "web_document=loader.load()\n"
   ]
  },
  {
   "cell_type": "code",
   "execution_count": 7,
   "id": "7e0cc4a9",
   "metadata": {},
   "outputs": [
    {
     "data": {
      "text/plain": [
       "[Document(metadata={'source': 'https://whc.unesco.org/en/list/252/'}, page_content=\"An immense mausoleum of white marble, built in Agra between 1631 and 1648 by order of the Mughal emperor Shah Jahan in memory of his favourite wife, the Taj Mahal is the jewel of Muslim art in India and one of the universally admired masterpieces of the world's heritage.Immense mausolée funéraire de marbre blanc édifiée entre 1631 et 1648 à Agra sur l'ordre de l'empereur moghol Shah Jahan pour perpétuer le souvenir de son épouse favorite, le Taj Mahal, joyau le plus parfait de l'art musulman en Inde, est l'un des chefs-d'œuvre universellement admirés du patrimoine de l'humanité.إنّ تاج محل هو ضريح جنائزي هائل شُيّد من الرخام الأبيض بين عامي 1631 و1648 في أغرا بناءً على أوامر الإمبراطور المغولي شاه جهان بهدف تخليد ذكرى زوجته المفضّلة. ويشكّل تاج محل الذي يُعتبر أفضل جوهرة في الفن الإسلامي في الهند إحدى أبرز تُحف التراث البشري التي هي محطّ إعجاب العالم بأسره.泰姬陵是一座由白色大理石建成的巨大陵墓清真寺，是莫卧儿皇帝沙贾汗(Shah Jahan)为纪念他心爱的妃子于1631年至1648年在阿格拉修建的。泰姬陵是印度穆斯林艺术的瑰宝奇葩，是世界遗产中令世人赞叹的经典杰作之一。Великолепный мавзолей\"),\n",
       " Document(metadata={'source': 'https://whc.unesco.org/en/list/252/'}, page_content='الهند إحدى أبرز تُحف التراث البشري التي هي محطّ إعجاب العالم بأسره.泰姬陵是一座由白色大理石建成的巨大陵墓清真寺，是莫卧儿皇帝沙贾汗(Shah Jahan)为纪念他心爱的妃子于1631年至1648年在阿格拉修建的。泰姬陵是印度穆斯林艺术的瑰宝奇葩，是世界遗产中令世人赞叹的经典杰作之一。Великолепный мавзолей из белого мрамора был возведен в Агре между 1631 и 1648 гг. по приказу могольского императора Шах-Джахана в память о его любимой жене. Тадж-Махал – это жемчужина мусульманского искусства в Индии и один из всеми признанных шедевров всемирного наследия.Edificado entre 1631 y 1648 por orden del emperador mogol Shah Jahan para perpetuar la memoria de su esposa favorita, este grandioso mausoleo de mármol blanco es el más precioso joyel del arte musulmán en la India y una de las obras maestras universalmente admiradas del patrimonio cultural de la humanidad.1632年から22年の歳月をかけて、アグラの町に建てられた霊廟。ムガール帝国第5代のシャー・ジャハーンが、亡くなった最愛の妃ムムターズ・マハルのために建立した。中心のドームの高さは58m、周辺に4本のミナレット（尖塔）がそびえている。外観はペルシア風だが、内部はインド的な造りで、世界的にも最も美しいイスラーム建築の傑作といわれている。Dit gigantische mausoleum – opgetrokken uit wit marmer – werd tussen 1631'),\n",
       " Document(metadata={'source': 'https://whc.unesco.org/en/list/252/'}, page_content='gigantische mausoleum – opgetrokken uit wit marmer – werd tussen 1631 en 1648 gebouwd in Agra in opdracht van de Mogolse Keizer Shah Jahan, ter nagedachtenis aan zijn favoriete echtgenote Mumtaz Mahal. Het is het kroonstuk van de islamitische kunst in India en wordt universeel gezien als één van de meesterstukken op de Werelderfgoedlijst. Het mausoleum is gebouwd op de rechteroever van de (rivier) Yamuna en staat in een geweldige Mogolse tuin die bijna 17 hectaren beslaat. De Taj Mahal wordt beschouwd als het grootste architectonische werk binnen de Indo-islamitische cultuur. Het reliëfwerk in het marmer en de ingelegde edel- en halfedelstenen maken het een buitengewoon monument.मुगल बादशाह शाहजहाँ के आदेश से अपनी प्रियतमा पत्नी की याद में 1631 और 1648 के बीच आगरा में सफेद संगमरमर का एक विशाल मकबरा बनाया गया, ताजमहल भारत में मुस्लिम कला की उत्कृष्ट कृति है और विश्\\u200dव विरासत में सार्वभौमिक रूप से प्रशंसित उत्कृष्ट कृतियों में से एक है।Brief synthesis'),\n",
       " Document(metadata={'source': 'https://whc.unesco.org/en/list/252/'}, page_content='The Taj Mahal is located on the right bank of the Yamuna River in a vast Mughal garden that encompasses nearly 17 hectares, in the Agra District in Uttar Pradesh. It was built by Mughal Emperor Shah Jahan in memory of his wife Mumtaz Mahal with construction starting in 1632 AD and completed in 1648 AD, with the mosque, the guest house and the main gateway on the south, the outer courtyard and its cloisters were added subsequently and completed in 1653 AD. The existence of several historical and Quaranic inscriptions in Arabic script have facilitated setting the chronology of Taj Mahal. For its construction, masons, stone-cutters, inlayers, carvers, painters, calligraphers, dome builders and other artisans were requisitioned from the whole of the empire and also from the Central Asia and Iran. Ustad-Ahmad Lahori was the main architect of the Taj Mahal.'),\n",
       " Document(metadata={'source': 'https://whc.unesco.org/en/list/252/'}, page_content='The Taj Mahal is considered to be the greatest architectural achievement in the whole range of Indo-Islamic architecture. Its recognised architectonic beauty has a rhythmic combination of solids and voids, concave and convex and light shadow; such as arches and domes further increases the aesthetic aspect. The colour combination of lush green scape reddish pathway and blue sky over it show cases the monument in ever changing tints and moods. The relief work in marble and inlay with precious and semi precious stones make it a monument apart.'),\n",
       " Document(metadata={'source': 'https://whc.unesco.org/en/list/252/'}, page_content='The uniqueness of Taj Mahal lies in some truly remarkable innovations carried out by the horticulture planners and architects of Shah Jahan. One such genius planning is the placing of tomb at one end of the quadripartite garden rather than in the exact centre, which added rich depth and perspective to the distant view of the monument. It is also, one of the best examples of raised tomb variety. The tomb is further raised on a square platform with the four sides of the octagonal base of the minarets extended beyond the square at the corners. The top of the platform is reached through a lateral flight of steps provided in the centre of the southern side. The ground plan of the Taj Mahal is in perfect balance of composition, the octagonal tomb chamber in the centre, encompassed by the portal halls and the four corner rooms. The plan is repeated on the upper floor. The exterior of the tomb is square in plan, with chamfered corners. The large double storied domed chamber, which houses the'),\n",
       " Document(metadata={'source': 'https://whc.unesco.org/en/list/252/'}, page_content='halls and the four corner rooms. The plan is repeated on the upper floor. The exterior of the tomb is square in plan, with chamfered corners. The large double storied domed chamber, which houses the cenotaphs of Mumtaz Mahal and Shah Jahan, is a perfect octagon in plan. The exquisite octagonal marble lattice screen encircling both cenotaphs is a piece of superb workmanship. It is highly polished and richly decorated with inlay work. The borders of the frames are inlaid with precious stones representing flowers executed with wonderful perfection. The hues and the shades of the stones used to make the leaves and the flowers appear almost real. The cenotaph of Mumtaz Mahal is in perfect centre of the tomb chamber, placed on a rectangular platform decorated with inlaid flower plant motifs. The cenotaph of Shah Jahan is greater than Mumtaz Mahal and installed more than thirty years later by the side of the latter on its west. The upper cenotaphs are only illusory and the real graves are in'),\n",
       " Document(metadata={'source': 'https://whc.unesco.org/en/list/252/'}, page_content='cenotaph of Shah Jahan is greater than Mumtaz Mahal and installed more than thirty years later by the side of the latter on its west. The upper cenotaphs are only illusory and the real graves are in the lower tomb chamber (crypt), a practice adopted in the imperial Mughal tombs.'),\n",
       " Document(metadata={'source': 'https://whc.unesco.org/en/list/252/'}, page_content='The four free-standing minarets at the corners of the platform added a hitherto unknown dimension to the Mughal architecture. The four minarets provide not only a kind of spatial reference to the monument but also give a three dimensional effect to the edifice.\\nThe most impressive in the Taj Mahal complex next to the tomb, is the main gate which stands majestically in the centre of the southern wall of the forecourt. The gate is flanked on the north front by double arcade galleries. The garden in front of the galleries is subdivided into four quarters by two main walk-ways and each quarters in turn subdivided by the narrower cross-axial walkways, on the Timurid-Persian scheme of the walled in garden. The enclosure walls on the east and west have a pavilion at the centre.'),\n",
       " Document(metadata={'source': 'https://whc.unesco.org/en/list/252/'}, page_content='The Taj Mahal is a perfect symmetrical planned building, with an emphasis of bilateral symmetry along a central axis on which the main features are placed. The building material used is brick-in-lime mortar veneered with red sandstone and marble and inlay work of precious/semi precious stones. The mosque and the guest house in the Taj Mahal complex are built of red sandstone in contrast to the marble tomb in the centre. Both the buildings have a large platform over the terrace at their front. Both the mosque and the guest house are the identical structures. They have an oblong massive prayer hall consist of three vaulted bays arranged in a row with central dominant portal. The frame of the portal arches and the spandrels are veneered in white marble. The spandrels are filled with flowery arabesques of stone intarsia and the arches bordered with rope molding.')]"
      ]
     },
     "execution_count": 7,
     "metadata": {},
     "output_type": "execute_result"
    }
   ],
   "source": [
    "from langchain.text_splitter import RecursiveCharacterTextSplitter\n",
    "text_splitter = RecursiveCharacterTextSplitter(\n",
    "    chunk_size=1000,\n",
    "    chunk_overlap=200,)\n",
    "process_pdf = text_splitter.split_documents(web_document)\n",
    "process_pdf[:10]"
   ]
  },
  {
   "cell_type": "code",
   "execution_count": 8,
   "id": "ab449f40",
   "metadata": {},
   "outputs": [],
   "source": [
    "db=FAISS.from_documents(documents=process_pdf, embedding=embeddings)"
   ]
  },
  {
   "cell_type": "code",
   "execution_count": 9,
   "id": "031b6d50",
   "metadata": {},
   "outputs": [],
   "source": [
    "retriever = db.as_retriever(search_kwargs={\"k\": 3})"
   ]
  },
  {
   "cell_type": "code",
   "execution_count": 11,
   "id": "cde4198b",
   "metadata": {},
   "outputs": [],
   "source": [
    "\n",
    "from langchain.tools.retriever import create_retriever_tool\n",
    "retriever_tool = create_retriever_tool(retriever=retriever, name=\"UNESCO World Heritage Sites\", description=\"Retrieves information about UNESCO World Heritage Sites.\")"
   ]
  },
  {
   "cell_type": "code",
   "execution_count": 13,
   "id": "e07d1289",
   "metadata": {},
   "outputs": [
    {
     "data": {
      "text/plain": [
       "'Published: 2016-07-19\\nTitle: Adaptive Artificial Intelligence in Games: Issues, Requirements, and a Solution through Behavlets-based General Player Modelling\\nAuthors: Benjamin Ultan Cowley, Darryl Charles\\nSummary: We present the last of a series of three academic essays which deal with the\\nquestion of how and why to build a generalized player model. We propose that a\\ngeneral player model needs parameters for subjective experience of play,\\nincluding: player psychology, game structure, and actions'"
      ]
     },
     "execution_count": 13,
     "metadata": {},
     "output_type": "execute_result"
    }
   ],
   "source": [
    "from langchain_community.utilities import ArxivAPIWrapper\n",
    "from langchain_community.tools import ArxivQueryRun\n",
    "arxiv_api_wrapper = ArxivAPIWrapper(top_k_results=3, doc_content_chars_max=500)\n",
    "arxiv_tool = ArxivQueryRun(api_wrapper=arxiv_api_wrapper)\n",
    "\n",
    "arxiv_tool.run(\"What is the latest research on federated learningin artificial intelligence?\")\n"
   ]
  },
  {
   "cell_type": "code",
   "execution_count": 14,
   "id": "77c4b20b",
   "metadata": {},
   "outputs": [],
   "source": [
    "tools=[\n",
    "    wiki_tool,\n",
    "    retriever_tool,\n",
    "    arxiv_tool\n",
    "]"
   ]
  },
  {
   "cell_type": "code",
   "execution_count": 15,
   "id": "d32abce3",
   "metadata": {},
   "outputs": [
    {
     "data": {
      "text/plain": [
       "[WikipediaQueryRun(api_wrapper=WikipediaAPIWrapper(wiki_client=<module 'wikipedia' from 'c:\\\\ProgramData\\\\Anaconda3\\\\envs\\\\rag\\\\Lib\\\\site-packages\\\\wikipedia\\\\__init__.py'>, top_k_results=3, lang='en', load_all_available_meta=False, doc_content_chars_max=500)),\n",
       " Tool(name='UNESCO World Heritage Sites', description='Retrieves information about UNESCO World Heritage Sites.', args_schema=<class 'langchain_core.tools.retriever.RetrieverInput'>, func=functools.partial(<function _get_relevant_documents at 0x000001B15EADF740>, retriever=VectorStoreRetriever(tags=['FAISS', 'OllamaEmbeddings'], vectorstore=<langchain_community.vectorstores.faiss.FAISS object at 0x000001B1374808D0>, search_kwargs={'k': 3}), document_prompt=PromptTemplate(input_variables=['page_content'], input_types={}, partial_variables={}, template='{page_content}'), document_separator='\\n\\n', response_format='content'), coroutine=functools.partial(<function _aget_relevant_documents at 0x000001B1CEEDDD00>, retriever=VectorStoreRetriever(tags=['FAISS', 'OllamaEmbeddings'], vectorstore=<langchain_community.vectorstores.faiss.FAISS object at 0x000001B1374808D0>, search_kwargs={'k': 3}), document_prompt=PromptTemplate(input_variables=['page_content'], input_types={}, partial_variables={}, template='{page_content}'), document_separator='\\n\\n', response_format='content')),\n",
       " ArxivQueryRun(api_wrapper=ArxivAPIWrapper(arxiv_search=<class 'arxiv.Search'>, arxiv_exceptions=(<class 'arxiv.ArxivError'>, <class 'arxiv.UnexpectedEmptyPageError'>, <class 'arxiv.HTTPError'>), top_k_results=3, ARXIV_MAX_QUERY_LENGTH=300, continue_on_failure=False, load_max_docs=100, load_all_available_meta=False, doc_content_chars_max=500))]"
      ]
     },
     "execution_count": 15,
     "metadata": {},
     "output_type": "execute_result"
    }
   ],
   "source": [
    "tools"
   ]
  },
  {
   "cell_type": "code",
   "execution_count": null,
   "id": "b8cbce75",
   "metadata": {},
   "outputs": [],
   "source": [
    "### Agents"
   ]
  },
  {
   "cell_type": "markdown",
   "id": "09f48c3b",
   "metadata": {},
   "source": [
    "A big use case for LangChain is creating agents. Agents are systems that use LLMs as reasoning engines to determine which actions to take and the inputs necessary to perform the action. After executing actions, the results can be fed back into the LLM to determine whether more actions are needed, or whether it is okay to finish. This is often achieved via tool-calling."
   ]
  },
  {
   "cell_type": "code",
   "execution_count": 16,
   "id": "6010173b",
   "metadata": {},
   "outputs": [
    {
     "name": "stderr",
     "output_type": "stream",
     "text": [
      "C:\\Users\\shrey\\AppData\\Local\\Temp\\ipykernel_28380\\2814759709.py:2: LangChainDeprecationWarning: The class `Ollama` was deprecated in LangChain 0.3.1 and will be removed in 1.0.0. An updated version of the class exists in the :class:`~langchain-ollama package and should be used instead. To use it run `pip install -U :class:`~langchain-ollama` and import as `from :class:`~langchain_ollama import OllamaLLM``.\n",
      "  llm = Ollama(model=\"llama2\")\n"
     ]
    }
   ],
   "source": [
    "from langchain_community.llms import Ollama\n",
    "llm = Ollama(model=\"llama2\")"
   ]
  },
  {
   "cell_type": "code",
   "execution_count": 19,
   "id": "840a88ec",
   "metadata": {},
   "outputs": [],
   "source": [
    "from langchain import hub\n",
    "from langchain_core.prompts import ChatPromptTemplate\n",
    "prompt =ChatPromptTemplate.from_template(\"\"\"\n",
    "    Answer the following question based on the context below.\n",
    "    Think stept by step and provide a final answer.\n",
    "    If you don't know the answer, just say that you don't know, don't try to make up an answer.   \n",
    "    <context>\n",
    "    {context}\n",
    "    </context>\n",
    "    Question: {input}\"\"\")"
   ]
  },
  {
   "cell_type": "code",
   "execution_count": 31,
   "id": "933e9d2c",
   "metadata": {},
   "outputs": [
    {
     "name": "stderr",
     "output_type": "stream",
     "text": [
      "C:\\Users\\shrey\\AppData\\Local\\Temp\\ipykernel_28380\\3467095508.py:3: LangChainDeprecationWarning: LangChain agents will continue to be supported, but it is recommended for new use cases to be built with LangGraph. LangGraph offers a more flexible and full-featured framework for building agents, including support for tool-calling, persistence of state, and human-in-the-loop workflows. For details, refer to the `LangGraph documentation <https://langchain-ai.github.io/langgraph/>`_ as well as guides for `Migrating from AgentExecutor <https://python.langchain.com/docs/how_to/migrate_agent/>`_ and LangGraph's `Pre-built ReAct agent <https://langchain-ai.github.io/langgraph/how-tos/create-react-agent/>`_.\n",
      "  agent = initialize_agent(\n"
     ]
    }
   ],
   "source": [
    "from langchain.agents import initialize_agent, AgentType\n",
    "\n",
    "agent = initialize_agent(\n",
    "    tools=tools,\n",
    "    llm=llm,\n",
    "    agent=AgentType.OPENAI_FUNCTIONS,  # works with tools\n",
    "    verbose=True\n",
    ")"
   ]
  },
  {
   "cell_type": "code",
   "execution_count": null,
   "id": "a9a8f399",
   "metadata": {},
   "outputs": [
    {
     "name": "stdout",
     "output_type": "stream",
     "text": [
      "\n",
      "\n",
      "\u001b[1m> Entering new AgentExecutor chain...\u001b[0m\n",
      "\u001b[32;1m\u001b[1;3mOf course! The Taj Mahal is an iconic white marble mausoleum located in Agra, India. It was built by Mughal Emperor Shah Jahan in memory of his wife, Mumtaz Mahal, who died during childbirth in 1631. The construction of the Taj Mahal began in 1632 and took around 22 years to complete, with thousands of workers and artisans laboring to create this stunning monument.\n",
      "\n",
      "The Taj Mahal is considered one of the most beautiful examples of Mughal architecture, which blends elements of Islamic, Persian, and Indian styles. The mausoleum features intricate inlay work of precious stones, including jasper, jade, and turquoise, as well as exquisite marble carvings. The Taj Mahal is also surrounded by beautiful gardens, fountains, and walkways, creating a serene and peaceful atmosphere.\n",
      "\n",
      "The Taj Mahal has been designated as a UNESCO World Heritage Site since 1983 and is considered one of the Seven Wonders of the Modern World. It is visited by millions of people each year, who come to marvel at its beauty and historical significance.\n",
      "\n",
      "In addition to its stunning architecture, the Taj Mahal has a rich history that spans centuries. It was built as a symbol of love and devotion by Shah Jahan for his beloved wife, Mumtaz Mahal, who died during childbirth in 1631. The mausoleum is also the final resting place of Shah Jahan himself, who was buried there after his death in 1666.\n",
      "\n",
      "Overall, the Taj Mahal is a testament to the ingenuity and craftsmanship of ancient civilizations and continues to inspire wonder and awe in people from around the world.\u001b[0m\n",
      "\n",
      "\u001b[1m> Finished chain.\u001b[0m\n",
      "{'input': 'Tell me about the Taj Mahal.', 'output': 'Of course! The Taj Mahal is an iconic white marble mausoleum located in Agra, India. It was built by Mughal Emperor Shah Jahan in memory of his wife, Mumtaz Mahal, who died during childbirth in 1631. The construction of the Taj Mahal began in 1632 and took around 22 years to complete, with thousands of workers and artisans laboring to create this stunning monument.\\n\\nThe Taj Mahal is considered one of the most beautiful examples of Mughal architecture, which blends elements of Islamic, Persian, and Indian styles. The mausoleum features intricate inlay work of precious stones, including jasper, jade, and turquoise, as well as exquisite marble carvings. The Taj Mahal is also surrounded by beautiful gardens, fountains, and walkways, creating a serene and peaceful atmosphere.\\n\\nThe Taj Mahal has been designated as a UNESCO World Heritage Site since 1983 and is considered one of the Seven Wonders of the Modern World. It is visited by millions of people each year, who come to marvel at its beauty and historical significance.\\n\\nIn addition to its stunning architecture, the Taj Mahal has a rich history that spans centuries. It was built as a symbol of love and devotion by Shah Jahan for his beloved wife, Mumtaz Mahal, who died during childbirth in 1631. The mausoleum is also the final resting place of Shah Jahan himself, who was buried there after his death in 1666.\\n\\nOverall, the Taj Mahal is a testament to the ingenuity and craftsmanship of ancient civilizations and continues to inspire wonder and awe in people from around the world.'}\n"
     ]
    }
   ],
   "source": [
    "response = agent.invoke({\"input\": \"Tell me about the Taj Mahal.\"})\n",
    "print(response)"
   ]
  },
  {
   "cell_type": "code",
   "execution_count": null,
   "id": "091cce72",
   "metadata": {},
   "outputs": [],
   "source": []
  }
 ],
 "metadata": {
  "kernelspec": {
   "display_name": "rag",
   "language": "python",
   "name": "python3"
  },
  "language_info": {
   "codemirror_mode": {
    "name": "ipython",
    "version": 3
   },
   "file_extension": ".py",
   "mimetype": "text/x-python",
   "name": "python",
   "nbconvert_exporter": "python",
   "pygments_lexer": "ipython3",
   "version": "3.11.11"
  }
 },
 "nbformat": 4,
 "nbformat_minor": 5
}
